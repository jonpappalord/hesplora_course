{
 "cells": [
  {
   "cell_type": "markdown",
   "metadata": {
    "id": "wdZppL7SaKTD"
   },
   "source": [
    "<span>\n",
    "<b>Python version:</b>  >=3.7<br/>\n",
    "<b>Networkx version:</b>  >=2.3<br/>\n",
    "<b>Last update:</b> 22/11/2021\n",
    "</span>\n",
    "\n",
    "<a id='top'></a>\n",
    "# *Chapter 2: Networks & Graphs*\n",
    "\n",
    "``Networkx`` is a python library designed to provide support to analysis of complex networks.\n",
    "\n",
    "In this notebook are introduced some of the main features of the library and an overview of its functionalities.\n",
    "\n",
    "**Note:** this notebook is purposely not 100% comprehensive, it only discusses the basic things you need to get started. <br/> A complete documentation (and tutorial) is available on the project [website](https://networkx.github.io/documentation/latest/)"
   ]
  },
  {
   "cell_type": "markdown",
   "metadata": {
    "id": "zob8ryxuaKTF"
   },
   "source": [
    "**Note 2:** textbooks approaching network analysis (practice and theory) using ``networkx`` are: \n",
    "- \"Complex Network Analysis in Python\"\n",
    "Dmitry Zinoviev, The Pragmatic Programmer. 2018.\t\n",
    "- \"Firstcourse in network science\"\n",
    "Menczer, Fortunato, and Davis. 2020."
   ]
  },
  {
   "cell_type": "markdown",
   "metadata": {
    "id": "OdQlyBsbaKTG"
   },
   "source": [
    "## Importing the library\n",
    "As a first step just import the ``networkx`` library."
   ]
  },
  {
   "cell_type": "code",
   "execution_count": null,
   "metadata": {
    "executionInfo": {
     "elapsed": 604,
     "status": "ok",
     "timestamp": 1637924905698,
     "user": {
      "displayName": "Luca Pappalardo",
      "photoUrl": "https://lh3.googleusercontent.com/a-/AOh14GiY2zZUzyco8cuXU-q1DdNVYsGi503ozLlQx0Qy=s64",
      "userId": "07273797434895770197"
     },
     "user_tz": -60
    },
    "id": "jj2V7E2iaKTG"
   },
   "outputs": [],
   "source": [
    "import networkx as nx"
   ]
  },
  {
   "cell_type": "code",
   "execution_count": null,
   "metadata": {
    "executionInfo": {
     "elapsed": 212,
     "status": "ok",
     "timestamp": 1637924925912,
     "user": {
      "displayName": "Luca Pappalardo",
      "photoUrl": "https://lh3.googleusercontent.com/a-/AOh14GiY2zZUzyco8cuXU-q1DdNVYsGi503ozLlQx0Qy=s64",
      "userId": "07273797434895770197"
     },
     "user_tz": -60
    },
    "id": "ftCoH8SybIk3"
   },
   "outputs": [],
   "source": [
    "import warnings\n",
    "import pandas as pd\n",
    "import numpy as np\n",
    "import matplotlib.pyplot as plt\n",
    "warnings.filterwarnings('ignore')"
   ]
  },
  {
   "cell_type": "markdown",
   "metadata": {
    "id": "EdY9WybzaKTH"
   },
   "source": [
    "In our example we will not only analyse graphs but also visualise them: for this reason we have to import also ``matplotlib``."
   ]
  },
  {
   "cell_type": "code",
   "execution_count": null,
   "metadata": {
    "executionInfo": {
     "elapsed": 219,
     "status": "ok",
     "timestamp": 1637924932164,
     "user": {
      "displayName": "Luca Pappalardo",
      "photoUrl": "https://lh3.googleusercontent.com/a-/AOh14GiY2zZUzyco8cuXU-q1DdNVYsGi503ozLlQx0Qy=s64",
      "userId": "07273797434895770197"
     },
     "user_tz": -60
    },
    "id": "GbFqQ08LaKTI"
   },
   "outputs": [],
   "source": [
    "%matplotlib inline "
   ]
  },
  {
   "cell_type": "markdown",
   "metadata": {
    "id": "vH3efu7HaKTI"
   },
   "source": [
    "## Design our first graph\n",
    "\n",
    "``networkx`` provides support for several graph models. \n",
    "\n",
    "Among them:\n",
    "- undirected graphs, available through the ``Graph`` class\n",
    "- directed graphs, available through the ``DiGraph`` class\n",
    "\n",
    "In this brief tutorial we will focus only on undirected graphs."
   ]
  },
  {
   "cell_type": "markdown",
   "metadata": {
    "id": "SbVSDq1gaKTJ"
   },
   "source": [
    "We can build a graph adding nodes as well as edges as follows:"
   ]
  },
  {
   "cell_type": "code",
   "execution_count": null,
   "metadata": {
    "colab": {
     "base_uri": "https://localhost:8080/",
     "height": 319
    },
    "executionInfo": {
     "elapsed": 426,
     "status": "ok",
     "timestamp": 1637925443820,
     "user": {
      "displayName": "Luca Pappalardo",
      "photoUrl": "https://lh3.googleusercontent.com/a-/AOh14GiY2zZUzyco8cuXU-q1DdNVYsGi503ozLlQx0Qy=s64",
      "userId": "07273797434895770197"
     },
     "user_tz": -60
    },
    "id": "K7FkHtYpaKTJ",
    "outputId": "a4bd75ea-d576-4e66-b1d9-f01fc872d17b"
   },
   "outputs": [],
   "source": [
    "g = nx.Graph(name='first network')\n",
    "\n",
    "#g.add_node(\"a\")\n",
    "g.add_edge(\"a\", \"b\")\n",
    "g.add_edge(\"a\", \"c\")\n",
    "g.add_edge(\"b\", \"c\")\n",
    "\n",
    "nx.draw(g, with_labels=True)"
   ]
  },
  {
   "cell_type": "code",
   "execution_count": null,
   "metadata": {
    "colab": {
     "base_uri": "https://localhost:8080/",
     "height": 35
    },
    "executionInfo": {
     "elapsed": 233,
     "status": "ok",
     "timestamp": 1637925332081,
     "user": {
      "displayName": "Luca Pappalardo",
      "photoUrl": "https://lh3.googleusercontent.com/a-/AOh14GiY2zZUzyco8cuXU-q1DdNVYsGi503ozLlQx0Qy=s64",
      "userId": "07273797434895770197"
     },
     "user_tz": -60
    },
    "id": "u8lcmdrQ9OWB",
    "outputId": "8bfc0912-1dd7-4fd6-a996-140b608cd486"
   },
   "outputs": [],
   "source": [
    "g.name"
   ]
  },
  {
   "cell_type": "markdown",
   "metadata": {
    "id": "mYeVN7rbaKTK"
   },
   "source": [
    "Nodes and edges can also be easly removed"
   ]
  },
  {
   "cell_type": "code",
   "execution_count": null,
   "metadata": {
    "colab": {
     "base_uri": "https://localhost:8080/",
     "height": 319
    },
    "executionInfo": {
     "elapsed": 246,
     "status": "ok",
     "timestamp": 1637925498560,
     "user": {
      "displayName": "Luca Pappalardo",
      "photoUrl": "https://lh3.googleusercontent.com/a-/AOh14GiY2zZUzyco8cuXU-q1DdNVYsGi503ozLlQx0Qy=s64",
      "userId": "07273797434895770197"
     },
     "user_tz": -60
    },
    "id": "TGA8RfciaKTL",
    "outputId": "48484bbd-bb8c-461d-a2d7-1fd33123750e"
   },
   "outputs": [],
   "source": [
    "g.remove_node(\"a\")\n",
    "g.remove_edge(\"b\", \"c\")\n",
    "\n",
    "#re-draw the graph\n",
    "nx.draw(g, with_labels=True)"
   ]
  },
  {
   "cell_type": "markdown",
   "metadata": {
    "id": "gclCSplcaKTL"
   },
   "source": [
    "## Reading a graph from file\n",
    "``networkx`` natively supports several network file formats.\n",
    "\n",
    "Among them one the most frequently used in online repository is the *edgelist* one."
   ]
  },
  {
   "cell_type": "markdown",
   "metadata": {
    "id": "81Nr_LLYaKTL"
   },
   "source": [
    "An edge list is a text file (usually saved as .csv) in which each line identifies an edge. <br/>\n",
    "For instance, the triangle defined before can be described as:\n",
    "\n",
    "    a,b\n",
    "    b,c\n",
    "    c,a"
   ]
  },
  {
   "cell_type": "markdown",
   "metadata": {
    "id": "8uVqvJi4aKTM"
   },
   "source": [
    "To read edgelist file just write"
   ]
  },
  {
   "cell_type": "code",
   "execution_count": null,
   "metadata": {
    "colab": {
     "base_uri": "https://localhost:8080/",
     "height": 203
    },
    "executionInfo": {
     "elapsed": 384,
     "status": "ok",
     "timestamp": 1637925632275,
     "user": {
      "displayName": "Luca Pappalardo",
      "photoUrl": "https://lh3.googleusercontent.com/a-/AOh14GiY2zZUzyco8cuXU-q1DdNVYsGi503ozLlQx0Qy=s64",
      "userId": "07273797434895770197"
     },
     "user_tz": -60
    },
    "id": "csMs_iy89Q4G",
    "outputId": "20771337-3c79-4561-d988-cb1377a70dc0"
   },
   "outputs": [],
   "source": [
    "pd.read_csv(\"network.csv\", \n",
    "            sep=',', header=None, names=['node1', 'node2']).head()"
   ]
  },
  {
   "cell_type": "code",
   "execution_count": null,
   "metadata": {
    "executionInfo": {
     "elapsed": 364,
     "status": "ok",
     "timestamp": 1637926196819,
     "user": {
      "displayName": "Luca Pappalardo",
      "photoUrl": "https://lh3.googleusercontent.com/a-/AOh14GiY2zZUzyco8cuXU-q1DdNVYsGi503ozLlQx0Qy=s64",
      "userId": "07273797434895770197"
     },
     "user_tz": -60
    },
    "id": "3hhQposNaKTM"
   },
   "outputs": [],
   "source": [
    "g = nx.read_edgelist(\"network.csv\", \n",
    "                     delimiter=\",\", nodetype=int)"
   ]
  },
  {
   "cell_type": "code",
   "execution_count": null,
   "metadata": {
    "colab": {
     "base_uri": "https://localhost:8080/"
    },
    "executionInfo": {
     "elapsed": 220,
     "status": "ok",
     "timestamp": 1637926200442,
     "user": {
      "displayName": "Luca Pappalardo",
      "photoUrl": "https://lh3.googleusercontent.com/a-/AOh14GiY2zZUzyco8cuXU-q1DdNVYsGi503ozLlQx0Qy=s64",
      "userId": "07273797434895770197"
     },
     "user_tz": -60
    },
    "id": "8Xpnov8f9mr8",
    "outputId": "654e647e-670f-4bf5-9721-fefe9d63aeef"
   },
   "outputs": [],
   "source": [
    "print(g)"
   ]
  },
  {
   "cell_type": "markdown",
   "metadata": {
    "id": "mn6BXe5laKTM"
   },
   "source": [
    "Similarly a graph can be written to file using ``nx.write_edgelist(g, filename)``.\n",
    "\n",
    "For all the I/O methods refer to the [official documentation](https://networkx.github.io/documentation/latest/reference/readwrite/index.html)"
   ]
  },
  {
   "cell_type": "markdown",
   "metadata": {
    "id": "hjTMVZ0jaKTM"
   },
   "source": [
    "## Accessing nodes and edges\n",
    "Given a ``Graph`` object is it possible to iterate over its nodes with a simple ``for`` loop"
   ]
  },
  {
   "cell_type": "code",
   "execution_count": null,
   "metadata": {
    "executionInfo": {
     "elapsed": 221,
     "status": "ok",
     "timestamp": 1637925904365,
     "user": {
      "displayName": "Luca Pappalardo",
      "photoUrl": "https://lh3.googleusercontent.com/a-/AOh14GiY2zZUzyco8cuXU-q1DdNVYsGi503ozLlQx0Qy=s64",
      "userId": "07273797434895770197"
     },
     "user_tz": -60
    },
    "id": "4f_5wczoaKTM"
   },
   "outputs": [],
   "source": [
    "for n in g.nodes():\n",
    "    # do something\n",
    "    pass"
   ]
  },
  {
   "cell_type": "markdown",
   "metadata": {
    "id": "qdc9STXnaKTN"
   },
   "source": [
    "Following a similar rationale is it also possible to loop over the edge set"
   ]
  },
  {
   "cell_type": "code",
   "execution_count": null,
   "metadata": {
    "executionInfo": {
     "elapsed": 235,
     "status": "ok",
     "timestamp": 1637925908581,
     "user": {
      "displayName": "Luca Pappalardo",
      "photoUrl": "https://lh3.googleusercontent.com/a-/AOh14GiY2zZUzyco8cuXU-q1DdNVYsGi503ozLlQx0Qy=s64",
      "userId": "07273797434895770197"
     },
     "user_tz": -60
    },
    "id": "zJ880YmzaKTN"
   },
   "outputs": [],
   "source": [
    "for e in g.edges():\n",
    "    # do something\n",
    "    pass"
   ]
  },
  {
   "cell_type": "markdown",
   "metadata": {
    "id": "VYBykqSCaKTN"
   },
   "source": [
    "All graph entities can be used to store additional attributes (weights, labels...). \n",
    "\n",
    "For furhter details refer to the [official documentation](https://networkx.github.io/documentation/latest/tutorial.html#adding-attributes-to-graphs-nodes-and-edges)"
   ]
  },
  {
   "cell_type": "markdown",
   "metadata": {
    "id": "E9O1EZGNaKTN"
   },
   "source": [
    "## Network base statistics\n",
    "``networkx`` allows to manipulate nodes as well as edges, count them, and extract relevant global features."
   ]
  },
  {
   "cell_type": "code",
   "execution_count": null,
   "metadata": {
    "colab": {
     "base_uri": "https://localhost:8080/"
    },
    "executionInfo": {
     "elapsed": 228,
     "status": "ok",
     "timestamp": 1637925919717,
     "user": {
      "displayName": "Luca Pappalardo",
      "photoUrl": "https://lh3.googleusercontent.com/a-/AOh14GiY2zZUzyco8cuXU-q1DdNVYsGi503ozLlQx0Qy=s64",
      "userId": "07273797434895770197"
     },
     "user_tz": -60
    },
    "id": "XYY7xHFwaKTN",
    "outputId": "2e62826d-92cd-43b5-ea0b-299bf94a2322"
   },
   "outputs": [],
   "source": [
    "g.number_of_nodes()"
   ]
  },
  {
   "cell_type": "code",
   "execution_count": null,
   "metadata": {
    "colab": {
     "base_uri": "https://localhost:8080/"
    },
    "executionInfo": {
     "elapsed": 224,
     "status": "ok",
     "timestamp": 1637925923844,
     "user": {
      "displayName": "Luca Pappalardo",
      "photoUrl": "https://lh3.googleusercontent.com/a-/AOh14GiY2zZUzyco8cuXU-q1DdNVYsGi503ozLlQx0Qy=s64",
      "userId": "07273797434895770197"
     },
     "user_tz": -60
    },
    "id": "_7ZDYIn8aKTO",
    "outputId": "59700621-7c3f-4b92-ad22-866d7a5640fa"
   },
   "outputs": [],
   "source": [
    "g.number_of_edges()"
   ]
  },
  {
   "cell_type": "code",
   "execution_count": null,
   "metadata": {
    "colab": {
     "base_uri": "https://localhost:8080/"
    },
    "executionInfo": {
     "elapsed": 224,
     "status": "ok",
     "timestamp": 1637925926919,
     "user": {
      "displayName": "Luca Pappalardo",
      "photoUrl": "https://lh3.googleusercontent.com/a-/AOh14GiY2zZUzyco8cuXU-q1DdNVYsGi503ozLlQx0Qy=s64",
      "userId": "07273797434895770197"
     },
     "user_tz": -60
    },
    "id": "zvRCJLg3aKTO",
    "outputId": "c285386f-28b8-4d32-ac7e-0337ed3f0b6e"
   },
   "outputs": [],
   "source": [
    "g.is_directed()"
   ]
  },
  {
   "cell_type": "markdown",
   "metadata": {
    "id": "fV8QtfXXaKTO"
   },
   "source": [
    "## Degrees and Degree distribution\n",
    "Node degree can be easily obtained as follows:"
   ]
  },
  {
   "cell_type": "code",
   "execution_count": null,
   "metadata": {
    "colab": {
     "base_uri": "https://localhost:8080/"
    },
    "executionInfo": {
     "elapsed": 215,
     "status": "ok",
     "timestamp": 1637925976796,
     "user": {
      "displayName": "Luca Pappalardo",
      "photoUrl": "https://lh3.googleusercontent.com/a-/AOh14GiY2zZUzyco8cuXU-q1DdNVYsGi503ozLlQx0Qy=s64",
      "userId": "07273797434895770197"
     },
     "user_tz": -60
    },
    "id": "o_v0O6GpaKTO",
    "outputId": "ebd31c53-c520-4ea6-c072-1fa154af456f"
   },
   "outputs": [],
   "source": [
    "g.degree(7) # degree for node 1"
   ]
  },
  {
   "cell_type": "code",
   "execution_count": null,
   "metadata": {
    "colab": {
     "base_uri": "https://localhost:8080/"
    },
    "executionInfo": {
     "elapsed": 266,
     "status": "ok",
     "timestamp": 1637925997979,
     "user": {
      "displayName": "Luca Pappalardo",
      "photoUrl": "https://lh3.googleusercontent.com/a-/AOh14GiY2zZUzyco8cuXU-q1DdNVYsGi503ozLlQx0Qy=s64",
      "userId": "07273797434895770197"
     },
     "user_tz": -60
    },
    "id": "CZo7kNmm_z6H",
    "outputId": "8282cfdf-c060-4d18-8cb5-fd3bc771e637"
   },
   "outputs": [],
   "source": [
    "g.degree()"
   ]
  },
  {
   "cell_type": "markdown",
   "metadata": {
    "id": "J4xMHy_zaKTP"
   },
   "source": [
    "Similarly the average degree can be computed with"
   ]
  },
  {
   "cell_type": "code",
   "execution_count": null,
   "metadata": {
    "colab": {
     "base_uri": "https://localhost:8080/"
    },
    "executionInfo": {
     "elapsed": 227,
     "status": "ok",
     "timestamp": 1637925987508,
     "user": {
      "displayName": "Luca Pappalardo",
      "photoUrl": "https://lh3.googleusercontent.com/a-/AOh14GiY2zZUzyco8cuXU-q1DdNVYsGi503ozLlQx0Qy=s64",
      "userId": "07273797434895770197"
     },
     "user_tz": -60
    },
    "id": "_LFozd4uaKTP",
    "outputId": "81a6fa90-2707-411f-8725-1437cc5ee04b"
   },
   "outputs": [],
   "source": [
    "sum(dict(g.degree()).values())/float(len(g))"
   ]
  },
  {
   "cell_type": "markdown",
   "metadata": {
    "id": "ALd9Ixm9aKTP"
   },
   "source": [
    "An easy way to compute, and visualise, the degree distribution is the following"
   ]
  },
  {
   "cell_type": "code",
   "execution_count": null,
   "metadata": {
    "colab": {
     "base_uri": "https://localhost:8080/",
     "height": 299
    },
    "executionInfo": {
     "elapsed": 1052,
     "status": "ok",
     "timestamp": 1637926044890,
     "user": {
      "displayName": "Luca Pappalardo",
      "photoUrl": "https://lh3.googleusercontent.com/a-/AOh14GiY2zZUzyco8cuXU-q1DdNVYsGi503ozLlQx0Qy=s64",
      "userId": "07273797434895770197"
     },
     "user_tz": -60
    },
    "id": "d4_LeWeraKTP",
    "outputId": "1d7cfdb4-1f1d-4001-b0e2-694c84beb7df"
   },
   "outputs": [],
   "source": [
    "hist = nx.degree_histogram(g)\n",
    "\n",
    "plt.plot(range(0, len(hist)), hist, \".\")\n",
    "plt.title(\"Degree Distribution\")\n",
    "plt.xlabel(\"Degree\")\n",
    "plt.ylabel(\"#Nodes\")\n",
    "plt.loglog()\n",
    "plt.grid(alpha=0.2)\n",
    "plt.show()"
   ]
  },
  {
   "cell_type": "markdown",
   "metadata": {
    "id": "uKsUhmyuaKTQ"
   },
   "source": [
    "## Graph components\n",
    "``networkx`` allows to select node specific views of the original graph"
   ]
  },
  {
   "cell_type": "code",
   "execution_count": null,
   "metadata": {
    "colab": {
     "base_uri": "https://localhost:8080/"
    },
    "executionInfo": {
     "elapsed": 260,
     "status": "ok",
     "timestamp": 1637926236365,
     "user": {
      "displayName": "Luca Pappalardo",
      "photoUrl": "https://lh3.googleusercontent.com/a-/AOh14GiY2zZUzyco8cuXU-q1DdNVYsGi503ozLlQx0Qy=s64",
      "userId": "07273797434895770197"
     },
     "user_tz": -60
    },
    "id": "er5XkYliaKTQ",
    "outputId": "af0bad10-c528-4d26-a451-a7e48174fc4b"
   },
   "outputs": [],
   "source": [
    "list(g.neighbors(0)) # obtain the list of neighobors for node 0"
   ]
  },
  {
   "cell_type": "code",
   "execution_count": null,
   "metadata": {
    "colab": {
     "base_uri": "https://localhost:8080/",
     "height": 319
    },
    "executionInfo": {
     "elapsed": 855,
     "status": "ok",
     "timestamp": 1637926291119,
     "user": {
      "displayName": "Luca Pappalardo",
      "photoUrl": "https://lh3.googleusercontent.com/a-/AOh14GiY2zZUzyco8cuXU-q1DdNVYsGi503ozLlQx0Qy=s64",
      "userId": "07273797434895770197"
     },
     "user_tz": -60
    },
    "id": "bh4t32vUaKTQ",
    "outputId": "047f616e-cc7c-49a2-a8e2-9dd51c9dad74"
   },
   "outputs": [],
   "source": [
    "ego = nx.ego_graph(g, 273) # ego network of the node 0\n",
    "nx.draw(ego, with_labels=True)"
   ]
  },
  {
   "cell_type": "code",
   "execution_count": null,
   "metadata": {
    "colab": {
     "base_uri": "https://localhost:8080/",
     "height": 319
    },
    "executionInfo": {
     "elapsed": 2060,
     "status": "ok",
     "timestamp": 1637926310790,
     "user": {
      "displayName": "Luca Pappalardo",
      "photoUrl": "https://lh3.googleusercontent.com/a-/AOh14GiY2zZUzyco8cuXU-q1DdNVYsGi503ozLlQx0Qy=s64",
      "userId": "07273797434895770197"
     },
     "user_tz": -60
    },
    "id": "kx3yzST8-LC6",
    "outputId": "30a4437b-81a9-458d-e8ef-2e8c96f668d2"
   },
   "outputs": [],
   "source": [
    "ego = nx.ego_graph(g, 306) # ego network of the node 0\n",
    "nx.draw(ego, with_labels=True)"
   ]
  },
  {
   "cell_type": "markdown",
   "metadata": {
    "id": "JJ6z-COWaKTR"
   },
   "source": [
    "Using the same rationale also connected components can be extracted"
   ]
  },
  {
   "cell_type": "code",
   "execution_count": null,
   "metadata": {
    "colab": {
     "base_uri": "https://localhost:8080/"
    },
    "executionInfo": {
     "elapsed": 228,
     "status": "ok",
     "timestamp": 1637926362474,
     "user": {
      "displayName": "Luca Pappalardo",
      "photoUrl": "https://lh3.googleusercontent.com/a-/AOh14GiY2zZUzyco8cuXU-q1DdNVYsGi503ozLlQx0Qy=s64",
      "userId": "07273797434895770197"
     },
     "user_tz": -60
    },
    "id": "ppC0508saKTR",
    "outputId": "693d6088-e222-49dd-f060-f6e4918621ce"
   },
   "outputs": [],
   "source": [
    "nx.number_connected_components(g)"
   ]
  },
  {
   "cell_type": "code",
   "execution_count": null,
   "metadata": {
    "colab": {
     "base_uri": "https://localhost:8080/",
     "height": 319
    },
    "executionInfo": {
     "elapsed": 28235,
     "status": "ok",
     "timestamp": 1637926421721,
     "user": {
      "displayName": "Luca Pappalardo",
      "photoUrl": "https://lh3.googleusercontent.com/a-/AOh14GiY2zZUzyco8cuXU-q1DdNVYsGi503ozLlQx0Qy=s64",
      "userId": "07273797434895770197"
     },
     "user_tz": -60
    },
    "id": "E1F70CZaaKTR",
    "outputId": "91ae8d53-90b5-4c37-9538-4e1bf93ac6da"
   },
   "outputs": [],
   "source": [
    "comps = list(nx.connected_components(g)) # get a list of connected components (for decreasing size)\n",
    "comp_0 = nx.subgraph(g, comps[0]) # build a subgraph on the second component\n",
    "nx.draw(comp_0)"
   ]
  },
  {
   "cell_type": "code",
   "execution_count": null,
   "metadata": {
    "colab": {
     "base_uri": "https://localhost:8080/",
     "height": 319
    },
    "executionInfo": {
     "elapsed": 608,
     "status": "ok",
     "timestamp": 1637926450293,
     "user": {
      "displayName": "Luca Pappalardo",
      "photoUrl": "https://lh3.googleusercontent.com/a-/AOh14GiY2zZUzyco8cuXU-q1DdNVYsGi503ozLlQx0Qy=s64",
      "userId": "07273797434895770197"
     },
     "user_tz": -60
    },
    "id": "gmiLIkGO-18Z",
    "outputId": "fec9627d-7a86-4de4-c307-61fd8b5af76c"
   },
   "outputs": [],
   "source": [
    "comp_1 = nx.subgraph(g, comps[84]) # build a subgraph on the second component\n",
    "nx.draw(comp_1)"
   ]
  },
  {
   "cell_type": "markdown",
   "metadata": {
    "id": "JUJlULlzaKTR"
   },
   "source": [
    "## Paths and Diameter\n",
    "Shortest paths can be extracted as well using the following syntax"
   ]
  },
  {
   "cell_type": "code",
   "execution_count": null,
   "metadata": {
    "colab": {
     "base_uri": "https://localhost:8080/"
    },
    "executionInfo": {
     "elapsed": 228,
     "status": "ok",
     "timestamp": 1637926478817,
     "user": {
      "displayName": "Luca Pappalardo",
      "photoUrl": "https://lh3.googleusercontent.com/a-/AOh14GiY2zZUzyco8cuXU-q1DdNVYsGi503ozLlQx0Qy=s64",
      "userId": "07273797434895770197"
     },
     "user_tz": -60
    },
    "id": "L0t87lsxaKTR",
    "outputId": "17126feb-70dc-47ab-ee22-4f55d0b596da"
   },
   "outputs": [],
   "source": [
    "nx.shortest_path(g, source=0, target=30)"
   ]
  },
  {
   "cell_type": "code",
   "execution_count": null,
   "metadata": {
    "colab": {
     "base_uri": "https://localhost:8080/"
    },
    "executionInfo": {
     "elapsed": 242,
     "status": "ok",
     "timestamp": 1637926489592,
     "user": {
      "displayName": "Luca Pappalardo",
      "photoUrl": "https://lh3.googleusercontent.com/a-/AOh14GiY2zZUzyco8cuXU-q1DdNVYsGi503ozLlQx0Qy=s64",
      "userId": "07273797434895770197"
     },
     "user_tz": -60
    },
    "id": "OjL3WE2FaKTR",
    "outputId": "21940dac-e8a0-4c11-8bc8-ce8bd4b02d7b"
   },
   "outputs": [],
   "source": [
    "nx.shortest_path_length(g, source=0, target=30)"
   ]
  },
  {
   "cell_type": "markdown",
   "metadata": {
    "id": "MaGPLEGGaKTS"
   },
   "source": [
    "Moreover, the network diameter can be computed as follows"
   ]
  },
  {
   "cell_type": "code",
   "execution_count": null,
   "metadata": {
    "colab": {
     "base_uri": "https://localhost:8080/"
    },
    "executionInfo": {
     "elapsed": 69851,
     "status": "ok",
     "timestamp": 1637926578529,
     "user": {
      "displayName": "Luca Pappalardo",
      "photoUrl": "https://lh3.googleusercontent.com/a-/AOh14GiY2zZUzyco8cuXU-q1DdNVYsGi503ozLlQx0Qy=s64",
      "userId": "07273797434895770197"
     },
     "user_tz": -60
    },
    "id": "gBKQXVO6aKTS",
    "outputId": "fbd31bb1-7f82-4bd5-891a-b73090cbe864"
   },
   "outputs": [],
   "source": [
    "nx.diameter(g.subgraph(comps[0])) # we compute the diameter on the giant component"
   ]
  },
  {
   "cell_type": "markdown",
   "metadata": {
    "id": "JBXxVGMhaKTS"
   },
   "source": [
    "## Triangles, density and clustering\n",
    "Other indexes that can be computed using the library are "
   ]
  },
  {
   "cell_type": "code",
   "execution_count": null,
   "metadata": {
    "colab": {
     "base_uri": "https://localhost:8080/"
    },
    "executionInfo": {
     "elapsed": 220,
     "status": "ok",
     "timestamp": 1637926595320,
     "user": {
      "displayName": "Luca Pappalardo",
      "photoUrl": "https://lh3.googleusercontent.com/a-/AOh14GiY2zZUzyco8cuXU-q1DdNVYsGi503ozLlQx0Qy=s64",
      "userId": "07273797434895770197"
     },
     "user_tz": -60
    },
    "id": "TpcEqNTzaKTS",
    "outputId": "b20c6978-f594-40e6-992b-a6fe425baf45"
   },
   "outputs": [],
   "source": [
    "nx.density(g)"
   ]
  },
  {
   "cell_type": "code",
   "execution_count": null,
   "metadata": {
    "colab": {
     "base_uri": "https://localhost:8080/"
    },
    "executionInfo": {
     "elapsed": 232,
     "status": "ok",
     "timestamp": 1637926608321,
     "user": {
      "displayName": "Luca Pappalardo",
      "photoUrl": "https://lh3.googleusercontent.com/a-/AOh14GiY2zZUzyco8cuXU-q1DdNVYsGi503ozLlQx0Qy=s64",
      "userId": "07273797434895770197"
     },
     "user_tz": -60
    },
    "id": "dbt_Xqj9aKTS",
    "outputId": "65f447c9-b4ee-4fba-e9c9-b376d0a6dc63"
   },
   "outputs": [],
   "source": [
    "nx.triangles(g)[0] # count the triangles each node is involved in (and access the value of node 0)"
   ]
  },
  {
   "cell_type": "code",
   "execution_count": null,
   "metadata": {
    "colab": {
     "base_uri": "https://localhost:8080/"
    },
    "executionInfo": {
     "elapsed": 222,
     "status": "ok",
     "timestamp": 1637926618044,
     "user": {
      "displayName": "Luca Pappalardo",
      "photoUrl": "https://lh3.googleusercontent.com/a-/AOh14GiY2zZUzyco8cuXU-q1DdNVYsGi503ozLlQx0Qy=s64",
      "userId": "07273797434895770197"
     },
     "user_tz": -60
    },
    "id": "JEfutup0aKTS",
    "outputId": "6ca41a51-2210-4758-8639-dc76d9aea14a"
   },
   "outputs": [],
   "source": [
    "nx.clustering(g)[0] # compute the local clustering coefficient for all nodes (and access the value for node 0)"
   ]
  },
  {
   "cell_type": "code",
   "execution_count": null,
   "metadata": {
    "colab": {
     "base_uri": "https://localhost:8080/"
    },
    "executionInfo": {
     "elapsed": 428,
     "status": "ok",
     "timestamp": 1637926637540,
     "user": {
      "displayName": "Luca Pappalardo",
      "photoUrl": "https://lh3.googleusercontent.com/a-/AOh14GiY2zZUzyco8cuXU-q1DdNVYsGi503ozLlQx0Qy=s64",
      "userId": "07273797434895770197"
     },
     "user_tz": -60
    },
    "id": "EW1VYmAlaKTT",
    "outputId": "c1478a43-edfa-4e5f-ab67-b82918bfdb43"
   },
   "outputs": [],
   "source": [
    "nx.average_clustering(g) # compute the global clustering coefficient"
   ]
  },
  {
   "cell_type": "code",
   "execution_count": null,
   "metadata": {},
   "outputs": [],
   "source": []
  }
 ],
 "metadata": {
  "colab": {
   "collapsed_sections": [],
   "name": "Chapter_2_-_Networks_and_Graphs.ipynb",
   "provenance": []
  },
  "kernelspec": {
   "display_name": "Python [conda env:hesplora]",
   "language": "python",
   "name": "hesplora"
  },
  "language_info": {
   "codemirror_mode": {
    "name": "ipython",
    "version": 3
   },
   "file_extension": ".py",
   "mimetype": "text/x-python",
   "name": "python",
   "nbconvert_exporter": "python",
   "pygments_lexer": "ipython3",
   "version": "3.9.15"
  }
 },
 "nbformat": 4,
 "nbformat_minor": 4
}
