{
 "cells": [
  {
   "cell_type": "markdown",
   "metadata": {
    "id": "XEDgd0qai8on"
   },
   "source": [
    "<span>\n",
    "<b>Python version:</b>  >=3.7<br/>\n",
    "<b>Networkx version:</b>  >=2.3<br/>\n",
    "<b>Last update:</b> 24/11/2021\n",
    "</span>\n",
    "\n",
    "<a id='top'></a>\n",
    "# *Chapter 3: Ties Strength & Resilience*\n",
    "\n",
    "**Note:** this notebook is purposely not 100% comprehensive, it only discusses the basic things you need to get started. "
   ]
  },
  {
   "cell_type": "code",
   "execution_count": null,
   "metadata": {
    "id": "1qN3yUqQi8oo"
   },
   "outputs": [],
   "source": [
    "import networkx as nx\n",
    "import pandas as pd\n",
    "import matplotlib.pyplot as plt\n",
    "import numpy as np\n",
    "\n",
    "%matplotlib inline"
   ]
  },
  {
   "cell_type": "markdown",
   "metadata": {
    "id": "VyQGO-Xyi8op"
   },
   "source": [
    "Reading Game of Thrones Season 6 edge data and defining the graph g (useful for further operations).\n",
    "\n",
    "Download data from [here](https://drive.google.com/file/d/1NIS_LCye-SgwP6UM6JeNHST5PWR7ZwwR/view?usp=sharing).\n",
    "\n",
    "`weight` is the number of interactions between the characters.\n",
    "\n"
   ]
  },
  {
   "cell_type": "code",
   "execution_count": null,
   "metadata": {
    "id": "rKSfaXiji8op"
   },
   "outputs": [],
   "source": [
    "def read_net_w(filename):\n",
    "    g = nx.Graph()\n",
    "    with open(filename) as f:\n",
    "        f.readline()\n",
    "        for l in f:\n",
    "            l = l.split(\",\")\n",
    "            g.add_edge(l[0], l[1], weight=int(l[2]))\n",
    "    return g\n",
    "\n",
    "# Game of Thrones data\n",
    "season = 6\n",
    "g = read_net_w(f'asioaf/got-s{season}-edges.csv')"
   ]
  },
  {
   "cell_type": "code",
   "execution_count": null,
   "metadata": {
    "id": "4u039DbejsFD"
   },
   "outputs": [],
   "source": [
    "nx.spring_layout(g)\n",
    "fig = plt.figure(1, figsize=(80, 40), dpi=60)\n",
    "nx.draw_spring(g, with_labels = True, font_size=30, width=2, node_size=1000,node_color='#A0CBE2')"
   ]
  },
  {
   "cell_type": "code",
   "execution_count": null,
   "metadata": {
    "id": "X9_R6kY35MNI"
   },
   "outputs": [],
   "source": [
    "for e in g.edges(data=True):\n",
    "    print(e)\n",
    "    break"
   ]
  },
  {
   "cell_type": "markdown",
   "metadata": {
    "id": "EvmhR1m3i8oq"
   },
   "source": [
    "## Bridges and Local Bridges"
   ]
  },
  {
   "cell_type": "markdown",
   "metadata": {
    "id": "SF3-GonVi8oq"
   },
   "source": [
    "Checking if graph has bridges"
   ]
  },
  {
   "cell_type": "code",
   "execution_count": null,
   "metadata": {
    "id": "gBCz766Li8or"
   },
   "outputs": [],
   "source": [
    "nx.has_bridges(g)"
   ]
  },
  {
   "cell_type": "markdown",
   "metadata": {
    "id": "WsxFafkYi8os"
   },
   "source": [
    "Generating all bridges in the graph"
   ]
  },
  {
   "cell_type": "code",
   "execution_count": null,
   "metadata": {
    "id": "C52QLLz7i8ot"
   },
   "outputs": [],
   "source": [
    "list(nx.bridges(g))"
   ]
  },
  {
   "cell_type": "markdown",
   "metadata": {
    "id": "loEr9jwmi8ot"
   },
   "source": [
    "Generating all local bridges in the graph and computing the span (i.e., the shortest path length between the endpoints if the local bridge is removed)"
   ]
  },
  {
   "cell_type": "code",
   "execution_count": null,
   "metadata": {
    "id": "x5l4jwIgi8ot"
   },
   "outputs": [],
   "source": [
    "list(nx.local_bridges(g, with_span=True ))"
   ]
  },
  {
   "cell_type": "markdown",
   "metadata": {
    "id": "94PKsqbHi8ou"
   },
   "source": [
    "## Tie Strength"
   ]
  },
  {
   "cell_type": "markdown",
   "metadata": {
    "id": "uUN0sU_ti8ou"
   },
   "source": [
    "Measuring Tie Strength for each pair of nodes in the graph through Neighborhood Overlap"
   ]
  },
  {
   "cell_type": "code",
   "execution_count": null,
   "metadata": {
    "id": "xVDzkUGEi8ou"
   },
   "outputs": [],
   "source": [
    "def node_overlap(g):\n",
    "    for u, v in g.edges():\n",
    "        n_u = set(g.neighbors(u)) # set of u neighbors\n",
    "        n_v = set(g.neighbors(v)) # set of v neighbors\n",
    "        # & is intersection, | is union\n",
    "        overlap = len(n_u & n_v) / len(n_u | n_v) # Neighborhood Overlap\n",
    "        g[u][v]['overlap'] = overlap\n",
    "    return g"
   ]
  },
  {
   "cell_type": "code",
   "execution_count": null,
   "metadata": {
    "id": "NJ-JehYGi8ou"
   },
   "outputs": [],
   "source": [
    "g = node_overlap(g)"
   ]
  },
  {
   "cell_type": "code",
   "execution_count": null,
   "metadata": {
    "id": "E-tCH0G847De"
   },
   "outputs": [],
   "source": [
    "for e in g.edges(data=True):\n",
    "    print(e)\n",
    "    break"
   ]
  },
  {
   "cell_type": "markdown",
   "metadata": {
    "id": "S2VAY4_li8ov"
   },
   "source": [
    "Plotting the KDE (Kernel Density Estimation) of Neighborhood Overlap"
   ]
  },
  {
   "cell_type": "code",
   "execution_count": null,
   "metadata": {
    "id": "nIqJdZrbi8ov"
   },
   "outputs": [],
   "source": [
    "weights = [e[-1]['overlap'] for e in g.edges(data=True)] \n",
    "pd.DataFrame(weights)[0].plot.kde()\n",
    "plt.xlabel(\"Neighborhood Overlap\")\n",
    "plt.xlim(0,1)\n",
    "plt.show()"
   ]
  },
  {
   "cell_type": "markdown",
   "metadata": {
    "id": "Tv5oLQ2pi8ov"
   },
   "source": [
    "Plotting the KDE (Kernel Density Estimation) of Interactions Weights"
   ]
  },
  {
   "cell_type": "code",
   "execution_count": null,
   "metadata": {
    "id": "aSMjFk1Ci8ov"
   },
   "outputs": [],
   "source": [
    "weights_got = [d['weight'] for u,v,d in g.edges(data=True)]\n",
    "pd.DataFrame(weights_got)[0].plot.kde()\n",
    "plt.xlabel(\"Interaction Weights\")\n",
    "plt.xlim(0,max(weights_got))\n",
    "plt.show()"
   ]
  },
  {
   "cell_type": "markdown",
   "metadata": {
    "id": "lA6bQJYt8TEy"
   },
   "source": [
    "### Exercises\n",
    "\n",
    "- Load GOT season 1 and replicate the computations and plots above. What are the bridges and local bridges? \n",
    "- Compare GOT season 1 with GOT season 5"
   ]
  },
  {
   "cell_type": "markdown",
   "metadata": {
    "id": "X4Xvc4VCi8ow"
   },
   "source": [
    "## Network Resilience\n",
    "In the following we:\n",
    "- generate Random and Scale-free Network\n",
    "- compute Reslience for both Networks (through molloy_reed and breakdown_threshold)\n",
    "- plot Game of Thrones graph Resilience under Random Failure and Targeted Attacks"
   ]
  },
  {
   "cell_type": "markdown",
   "metadata": {
    "id": "uicktacri8ow"
   },
   "source": [
    "Generating Networks"
   ]
  },
  {
   "cell_type": "code",
   "execution_count": null,
   "metadata": {
    "id": "dokEksNYi8ow"
   },
   "outputs": [],
   "source": [
    "# Random\n",
    "er = nx.erdos_renyi_graph(1000, 0.001)\n",
    "# Scale-free\n",
    "ba = nx.barabasi_albert_graph(1000, 2)"
   ]
  },
  {
   "cell_type": "markdown",
   "metadata": {
    "id": "qXs1D6TYi8ox"
   },
   "source": [
    "Computing node degree for both ER and BA Networks"
   ]
  },
  {
   "cell_type": "code",
   "execution_count": null,
   "metadata": {
    "id": "5iWpsMaci8ox"
   },
   "outputs": [],
   "source": [
    "er_degs = list(dict(er.degree()).values())\n",
    "ba_degs = list(dict(ba.degree()).values())"
   ]
  },
  {
   "cell_type": "markdown",
   "metadata": {
    "id": "CXfdvUUqi8ox"
   },
   "source": [
    "### Defining Molloy-Reed threshold\n",
    "\n",
    "The mathematical derivation for the threshold at which a complex network will lose its giant component is based on the Molloy–Reed criterion.\n",
    "\n",
    "The Molloy–Reed criterion is derived from the basic principle that in order for a giant component to exist, on average each node in the network must have at least two links. This is analogous to each person holding two others' hands in order to form a chain.\n",
    "\n",
    "Using this criterion and an involved mathematical proof, one can derive a critical threshold for the fraction of nodes needed to be removed for the breakdown of the giant component of a complex network."
   ]
  },
  {
   "cell_type": "code",
   "execution_count": null,
   "metadata": {
    "id": "ZiQv2Dt4i8ox"
   },
   "outputs": [],
   "source": [
    "def molloy_reed(degrees):\n",
    "    return (np.mean(degrees)*(np.mean(degrees)+1))/np.mean(degrees)\n",
    "\n",
    "def breakdown_threshold(degrees):\n",
    "    K = molloy_reed(degrees)\n",
    "    return 1 - (1/(K-1))"
   ]
  },
  {
   "cell_type": "markdown",
   "metadata": {
    "id": "5M_PSr6ci8ox"
   },
   "source": [
    "Random network"
   ]
  },
  {
   "cell_type": "code",
   "execution_count": null,
   "metadata": {
    "id": "uTWKjpu0i8ox"
   },
   "outputs": [],
   "source": [
    "molloy_reed(er_degs)"
   ]
  },
  {
   "cell_type": "code",
   "execution_count": null,
   "metadata": {
    "id": "jWdy74ZEi8oy"
   },
   "outputs": [],
   "source": [
    "breakdown_threshold(er_degs) * 100"
   ]
  },
  {
   "cell_type": "markdown",
   "metadata": {
    "id": "SafXSrkii8oy"
   },
   "source": [
    "Scale-free network"
   ]
  },
  {
   "cell_type": "code",
   "execution_count": null,
   "metadata": {
    "id": "RT5EvgYfi8oy"
   },
   "outputs": [],
   "source": [
    "molloy_reed(ba_degs)"
   ]
  },
  {
   "cell_type": "code",
   "execution_count": null,
   "metadata": {
    "id": "7LCfXFJQi8oy"
   },
   "outputs": [],
   "source": [
    "breakdown_threshold(ba_degs) * 100"
   ]
  },
  {
   "cell_type": "markdown",
   "metadata": {
    "id": "BaJAVbEBi8oz"
   },
   "source": [
    "### Random Failures"
   ]
  },
  {
   "cell_type": "code",
   "execution_count": null,
   "metadata": {
    "id": "zVUJCMJsi8oz"
   },
   "outputs": [],
   "source": [
    "def random_node(g): # select a random node from graph\n",
    "    return [np.random.choice(g.nodes())]\n",
    "\n",
    "def dismantle(g, function, **args): # incrementally removes node from a graph and computes size of connected components\n",
    "    total_nodes = g.number_of_nodes()\n",
    "    removed_nodes = []\n",
    "    components = []\n",
    "    while len(g.nodes()) > 1:\n",
    "        n = function(g, **args)[0]\n",
    "        g.remove_node(n)\n",
    "        removed_nodes.append((len(removed_nodes)+1)/total_nodes)\n",
    "        comps = list(nx.connected_components(g))\n",
    "        g_size = 0\n",
    "        if len(comps)>0:\n",
    "            g_size  = max([len(c)for c in comps])/total_nodes\n",
    "        components.append(g_size)\n",
    "    return removed_nodes, components\n",
    "\n",
    "def get_sorted_nodes(g, score, reverse=True): # sort nodes\n",
    "    nodes = score(g)\n",
    "    if isinstance(nodes, dict):\n",
    "        nodes = [(k, v) for k, v in nodes.items()]\n",
    "    srt = sorted(nodes, key = lambda k: k[1], reverse = reverse)\n",
    "    return [x[0] for x in srt]\n",
    "\n",
    "def plot_dismantle(x, y):\n",
    "    plt.plot(x, y)\n",
    "    plt.xlabel(\"Removed Nodes\")\n",
    "    plt.ylabel(\"Giant Component size\")\n",
    "    plt.show()"
   ]
  },
  {
   "cell_type": "markdown",
   "metadata": {
    "id": "bBPxgANGi8oz"
   },
   "source": [
    "Random Failure:\n",
    "- Giant component size has a consistent decrease when a big fraction of nodes is removed"
   ]
  },
  {
   "cell_type": "code",
   "execution_count": null,
   "metadata": {
    "id": "CT3OLZEAi8oz"
   },
   "outputs": [],
   "source": [
    "h = g.copy()\n",
    "rn, comps = dismantle(h, random_node)\n",
    "plot_dismantle(rn, comps)"
   ]
  },
  {
   "cell_type": "markdown",
   "metadata": {
    "id": "IkdSHrCni8oz"
   },
   "source": [
    "### Targeted Attacks"
   ]
  },
  {
   "cell_type": "markdown",
   "metadata": {
    "id": "DYWH0SS1i8oz"
   },
   "source": [
    "Targeted Node attack (hubs are removed first)\n",
    "- Giant component size has a consistent decrease when a small fraction of nodes is removed"
   ]
  },
  {
   "cell_type": "code",
   "execution_count": null,
   "metadata": {
    "id": "l9YvWKF6i8o0"
   },
   "outputs": [],
   "source": [
    "h = g.copy()\n",
    "rn, comps = dismantle(h, get_sorted_nodes, score=nx.degree)\n",
    "plot_dismantle(rn, comps)"
   ]
  },
  {
   "cell_type": "markdown",
   "metadata": {
    "id": "ckgD7DCui8o0"
   },
   "source": [
    "Targeted Edge Attack (based on Edge Betweenness Centrality)\n",
    "- Giant component size has a consistent decrease when a small fraction of nodes is removed"
   ]
  },
  {
   "cell_type": "code",
   "execution_count": null,
   "metadata": {
    "id": "kIVZHe2Ui8o0"
   },
   "outputs": [],
   "source": [
    "h = g.copy()\n",
    "rn, comps = dismantle(h, get_sorted_nodes, score=nx.betweenness_centrality)\n",
    "plot_dismantle(rn, comps)"
   ]
  },
  {
   "cell_type": "markdown",
   "metadata": {
    "id": "D1ND6kHvi8o0"
   },
   "source": [
    "Targeted Edge Attack (based on Edge Harmonic Centrality)\n",
    "- Giant component size has a consistent decrease when a small fraction of nodes is removed"
   ]
  },
  {
   "cell_type": "code",
   "execution_count": null,
   "metadata": {
    "id": "mKzNslvKi8o0"
   },
   "outputs": [],
   "source": [
    "h = g.copy()\n",
    "rn, comps = dismantle(h, get_sorted_nodes, score=nx.harmonic_centrality)\n",
    "plot_dismantle(rn, comps)"
   ]
  },
  {
   "cell_type": "markdown",
   "metadata": {
    "id": "hIhPD3Rg7f5c"
   },
   "source": [
    "### Putting all together"
   ]
  },
  {
   "cell_type": "code",
   "execution_count": null,
   "metadata": {
    "id": "henjX43W7lgO"
   },
   "outputs": [],
   "source": [
    "h = g.copy()\n",
    "rn, comps = dismantle(h, random_node)\n",
    "plt.plot(rn, comps, label='random')\n",
    "\n",
    "h = g.copy()\n",
    "rn, comps = dismantle(h, get_sorted_nodes, score=nx.degree)\n",
    "plt.plot(rn, comps, label='by degree')\n",
    "\n",
    "h = g.copy()\n",
    "rn, comps = dismantle(h, get_sorted_nodes, score=nx.betweenness_centrality)\n",
    "plt.plot(rn, comps, label='by betweenness')\n",
    "\n",
    "h = g.copy()\n",
    "rn, comps = dismantle(h, get_sorted_nodes, score=nx.harmonic_centrality)\n",
    "plt.plot(rn, comps, label='by harm centrality')\n",
    "\n",
    "plt.xlabel(\"Removed Nodes\")\n",
    "plt.ylabel(\"Giant Component size\")\n",
    "plt.legend()\n",
    "plt.show()"
   ]
  },
  {
   "cell_type": "code",
   "execution_count": null,
   "metadata": {},
   "outputs": [],
   "source": []
  }
 ],
 "metadata": {
  "colab": {
   "collapsed_sections": [],
   "name": "Chapter_3_-_Ties_Strength__Resilience.ipynb",
   "provenance": []
  },
  "kernelspec": {
   "display_name": "Python [conda env:hesplora]",
   "language": "python",
   "name": "hesplora"
  },
  "language_info": {
   "codemirror_mode": {
    "name": "ipython",
    "version": 3
   },
   "file_extension": ".py",
   "mimetype": "text/x-python",
   "name": "python",
   "nbconvert_exporter": "python",
   "pygments_lexer": "ipython3",
   "version": "3.9.15"
  }
 },
 "nbformat": 4,
 "nbformat_minor": 4
}
