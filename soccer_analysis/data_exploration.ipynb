{
 "cells": [
  {
   "cell_type": "markdown",
   "metadata": {
    "id": "ckteQfud0QYT"
   },
   "source": [
    "# Exploring spatio-temporal events using public soccer-logs"
   ]
  },
  {
   "cell_type": "markdown",
   "metadata": {
    "id": "fCt22dWu0QYU"
   },
   "source": [
    "All the material of this tutorial can be found in:\n",
    "- https://github.com/Friends-of-Tracking-Data-FoTD/mapping-match-events-in-Python\n",
    "- https://github.com/jonpappalord/soccer_logs_exploration\n",
    "\n",
    "The data used in the notebook can be found in: \n",
    "\n",
    "- Pappalardo, Luca; Massucco, Emanuele (2019): Soccer match event dataset. figshare. Collection. https://doi.org/10.6084/m9.figshare.c.4415000.v5\n",
    "\n",
    "A detailed description of the data can be found in the following paper (please cite it if you use the data or the following code):\n",
    "\n",
    "\n",
    "- Pappalardo, L., Cintia, P., Rossi, A. et al. **A public data set of spatio-temporal match events in soccer competitions**. Scientific Data 6, 236 (2019) doi:10.1038/s41597-019-0247-7, https://www.nature.com/articles/s41597-019-0247-7"
   ]
  },
  {
   "cell_type": "markdown",
   "metadata": {
    "id": "s2ayh4a7cyeU"
   },
   "source": [
    "## To know more\n",
    "Watch the videos on the Friends of Tracking Youtube channel: https://www.youtube.com/channel/UCUBFJYcag8j2rm_9HkrrA7w "
   ]
  },
  {
   "cell_type": "markdown",
   "metadata": {
    "heading_collapsed": true,
    "id": "1ICytbZ90QYU"
   },
   "source": [
    "## Outline of the notebook\n",
    "\n",
    "1. [Import libraries](#import_libraries)\n",
    "2. [Load public datasets](#load_public_dataset)\n",
    "3. [How are the data collected?](#data_collection)\n",
    "4. [Structure of data](#structure_of_data)\n",
    "    1. [Players](#players)\n",
    "    2. [Competitions](#competitions)\n",
    "    3. [Matches](#matches)\n",
    "    4. [Events](#events) \n",
    "5. [Basic statistics on events](#basic_statistics)\n",
    "    1. [Frequency of events by type](#frequency_by_type)\n",
    "    2. [Distribution of number of events per match](#events_per_match)\n",
    "6. [Plot events on the field](#plot_events_on_field)\n",
    "    1. [Static plot](#static_plot)\n",
    "    2. [Interactive plot](#interactive_plot)\n",
    "7. [Spatial distribution of events](#spatial_distribution_events)\n",
    "8. [Intra-match evolution](#intra_match_evolution)\n",
    "9. [Advanced statistics](#advanced_statistics)\n",
    "    1. [Passing networks](#passing_networks)\n",
    "    2. [Flow centrality](#flow_centrality)"
   ]
  },
  {
   "cell_type": "code",
   "execution_count": 4,
   "metadata": {
    "colab": {
     "base_uri": "https://localhost:8080/"
    },
    "executionInfo": {
     "elapsed": 935,
     "status": "ok",
     "timestamp": 1642842863238,
     "user": {
      "displayName": "Luca Pappalardo",
      "photoUrl": "https://lh3.googleusercontent.com/a-/AOh14GiY2zZUzyco8cuXU-q1DdNVYsGi503ozLlQx0Qy=s64",
      "userId": "07273797434895770197"
     },
     "user_tz": -60
    },
    "id": "-Rp_2vbT0TEk",
    "outputId": "296cdac7-8d44-4cf8-a922-c557cb8f3276"
   },
   "outputs": [
    {
     "name": "stdout",
     "output_type": "stream",
     "text": [
      "fatal: destination path 'mapping-match-events-in-Python' already exists and is not an empty directory.\n"
     ]
    }
   ],
   "source": [
    "!git clone https://github.com/Friends-of-Tracking-Data-FoTD/mapping-match-events-in-Python.git"
   ]
  },
  {
   "cell_type": "code",
   "execution_count": 6,
   "metadata": {
    "executionInfo": {
     "elapsed": 688,
     "status": "ok",
     "timestamp": 1642842867411,
     "user": {
      "displayName": "Luca Pappalardo",
      "photoUrl": "https://lh3.googleusercontent.com/a-/AOh14GiY2zZUzyco8cuXU-q1DdNVYsGi503ozLlQx0Qy=s64",
      "userId": "07273797434895770197"
     },
     "user_tz": -60
    },
    "id": "IEubEL5-rOSA"
   },
   "outputs": [],
   "source": [
    "import plotly.io as pio\n",
    "pio.renderers.default = 'colab'"
   ]
  },
  {
   "cell_type": "markdown",
   "metadata": {
    "id": "j2PIMDoi0QYV"
   },
   "source": [
    "## 1. <a id='import_libraries'>Import libraries</a>"
   ]
  },
  {
   "cell_type": "code",
   "execution_count": 7,
   "metadata": {
    "colab": {
     "base_uri": "https://localhost:8080/"
    },
    "executionInfo": {
     "elapsed": 14,
     "status": "ok",
     "timestamp": 1642842867413,
     "user": {
      "displayName": "Luca Pappalardo",
      "photoUrl": "https://lh3.googleusercontent.com/a-/AOh14GiY2zZUzyco8cuXU-q1DdNVYsGi503ozLlQx0Qy=s64",
      "userId": "07273797434895770197"
     },
     "user_tz": -60
    },
    "id": "54grEY-I0i2L",
    "outputId": "8cbf1647-60d9-4fc6-b949-cace2a1c08a9"
   },
   "outputs": [
    {
     "name": "stdout",
     "output_type": "stream",
     "text": [
      "/Users/lucapappalardo/Documents/hesplora/soccer_analysis/mapping-match-events-in-Python\n",
      "/Users/lucapappalardo/Documents/hesplora/soccer_analysis/mapping-match-events-in-Python\n"
     ]
    }
   ],
   "source": [
    "%cd mapping-match-events-in-Python\n",
    "!pwd"
   ]
  },
  {
   "cell_type": "code",
   "execution_count": 8,
   "metadata": {
    "colab": {
     "base_uri": "https://localhost:8080/",
     "height": 17
    },
    "executionInfo": {
     "elapsed": 773,
     "status": "ok",
     "timestamp": 1642842868179,
     "user": {
      "displayName": "Luca Pappalardo",
      "photoUrl": "https://lh3.googleusercontent.com/a-/AOh14GiY2zZUzyco8cuXU-q1DdNVYsGi503ozLlQx0Qy=s64",
      "userId": "07273797434895770197"
     },
     "user_tz": -60
    },
    "id": "jO4gw3Q50QYV",
    "outputId": "4e12f1ed-06f6-4b9d-a048-b2cea6e527a6"
   },
   "outputs": [
    {
     "data": {
      "text/html": [
       "        <script type=\"text/javascript\">\n",
       "        window.PlotlyConfig = {MathJaxConfig: 'local'};\n",
       "        if (window.MathJax && window.MathJax.Hub && window.MathJax.Hub.Config) {window.MathJax.Hub.Config({SVG: {font: \"STIX-Web\"}});}\n",
       "        if (typeof require !== 'undefined') {\n",
       "        require.undef(\"plotly\");\n",
       "        requirejs.config({\n",
       "            paths: {\n",
       "                'plotly': ['https://cdn.plot.ly/plotly-2.16.1.min']\n",
       "            }\n",
       "        });\n",
       "        require(['plotly'], function(Plotly) {\n",
       "            window._Plotly = Plotly;\n",
       "        });\n",
       "        }\n",
       "        </script>\n",
       "        "
      ]
     },
     "metadata": {},
     "output_type": "display_data"
    }
   ],
   "source": [
    "%matplotlib inline\n",
    "\n",
    "from utils import *\n",
    "from plot_utils import *\n",
    "from metrics import *\n",
    "\n",
    "import warnings\n",
    "warnings.filterwarnings('ignore')\n",
    "\n",
    "init_notebook_mode(connected=True)"
   ]
  },
  {
   "cell_type": "markdown",
   "metadata": {
    "id": "gZSEiPJm0QYW"
   },
   "source": [
    "## 2. <a id='load_public_dataset'>Load public datasets</a>\n",
    "Here we import the *matches*, *events*, *players*, and *competition* data sets from the <a href=\"https://doi.org/10.6084/m9.figshare.c.4415000.v5\">figshare repository</a>. Data are stored in `.json` format. \n",
    "\n",
    "we set up a script to download the dataset and store it into *data* folder. \n",
    "\n",
    "The data set contains:\n",
    "- 1,941 matches\n",
    "- 3,251,294 events\n",
    "- 4,299 players."
   ]
  },
  {
   "cell_type": "code",
   "execution_count": 9,
   "metadata": {
    "colab": {
     "base_uri": "https://localhost:8080/"
    },
    "executionInfo": {
     "elapsed": 14106,
     "status": "ok",
     "timestamp": 1642842882279,
     "user": {
      "displayName": "Luca Pappalardo",
      "photoUrl": "https://lh3.googleusercontent.com/a-/AOh14GiY2zZUzyco8cuXU-q1DdNVYsGi503ozLlQx0Qy=s64",
      "userId": "07273797434895770197"
     },
     "user_tz": -60
    },
    "id": "0lIH7F610QYW",
    "outputId": "14387957-88b7-4cee-c769-f155e91f4d20"
   },
   "outputs": [
    {
     "name": "stdout",
     "output_type": "stream",
     "text": [
      "Downloading matches data\n",
      "Downloading teams data\n",
      "Downloading players data\n",
      "Downloading competitions data\n",
      "Downloading events data\n",
      "Download completed\n"
     ]
    }
   ],
   "source": [
    "data_download() # automatic download from public figshare repository"
   ]
  },
  {
   "cell_type": "code",
   "execution_count": 10,
   "metadata": {
    "executionInfo": {
     "elapsed": 6902,
     "status": "ok",
     "timestamp": 1642842889174,
     "user": {
      "displayName": "Luca Pappalardo",
      "photoUrl": "https://lh3.googleusercontent.com/a-/AOh14GiY2zZUzyco8cuXU-q1DdNVYsGi503ozLlQx0Qy=s64",
      "userId": "07273797434895770197"
     },
     "user_tz": -60
    },
    "id": "BQFlE5MO0QYX"
   },
   "outputs": [],
   "source": [
    "match_id2match, match_id2events, player_id2player, competition_id2competition, team_id2team = load_public_dataset()\n"
   ]
  },
  {
   "cell_type": "code",
   "execution_count": 11,
   "metadata": {
    "colab": {
     "base_uri": "https://localhost:8080/"
    },
    "executionInfo": {
     "elapsed": 15,
     "status": "ok",
     "timestamp": 1642842889175,
     "user": {
      "displayName": "Luca Pappalardo",
      "photoUrl": "https://lh3.googleusercontent.com/a-/AOh14GiY2zZUzyco8cuXU-q1DdNVYsGi503ozLlQx0Qy=s64",
      "userId": "07273797434895770197"
     },
     "user_tz": -60
    },
    "id": "jEypFQYt36hK",
    "outputId": "8df81cac-5b53-4163-c117-237efc155f9b"
   },
   "outputs": [
    {
     "data": {
      "text/plain": [
       "defaultdict(dict,\n",
       "            {524: {'name': 'Italian first division',\n",
       "              'wyId': 524,\n",
       "              'format': 'Domestic league',\n",
       "              'area': {'name': 'Italy',\n",
       "               'id': '380',\n",
       "               'alpha3code': 'ITA',\n",
       "               'alpha2code': 'IT'},\n",
       "              'type': 'club'},\n",
       "             364: {'name': 'English first division',\n",
       "              'wyId': 364,\n",
       "              'format': 'Domestic league',\n",
       "              'area': {'name': 'England',\n",
       "               'id': '0',\n",
       "               'alpha3code': 'XEN',\n",
       "               'alpha2code': ''},\n",
       "              'type': 'club'},\n",
       "             795: {'name': 'Spanish first division',\n",
       "              'wyId': 795,\n",
       "              'format': 'Domestic league',\n",
       "              'area': {'name': 'Spain',\n",
       "               'id': '724',\n",
       "               'alpha3code': 'ESP',\n",
       "               'alpha2code': 'ES'},\n",
       "              'type': 'club'},\n",
       "             412: {'name': 'French first division',\n",
       "              'wyId': 412,\n",
       "              'format': 'Domestic league',\n",
       "              'area': {'name': 'France',\n",
       "               'id': '250',\n",
       "               'alpha3code': 'FRA',\n",
       "               'alpha2code': 'FR'},\n",
       "              'type': 'club'},\n",
       "             426: {'name': 'German first division',\n",
       "              'wyId': 426,\n",
       "              'format': 'Domestic league',\n",
       "              'area': {'name': 'Germany',\n",
       "               'id': '276',\n",
       "               'alpha3code': 'DEU',\n",
       "               'alpha2code': 'DE'},\n",
       "              'type': 'club'},\n",
       "             102: {'name': 'European Championship',\n",
       "              'wyId': 102,\n",
       "              'format': 'International cup',\n",
       "              'area': {'name': '',\n",
       "               'id': 0,\n",
       "               'alpha3code': 'XEU',\n",
       "               'alpha2code': ''},\n",
       "              'type': 'international'},\n",
       "             28: {'name': 'World Cup',\n",
       "              'wyId': 28,\n",
       "              'format': 'International cup',\n",
       "              'area': {'name': '',\n",
       "               'id': 0,\n",
       "               'alpha3code': 'XWO',\n",
       "               'alpha2code': ''},\n",
       "              'type': 'international'}})"
      ]
     },
     "execution_count": 11,
     "metadata": {},
     "output_type": "execute_result"
    }
   ],
   "source": [
    "competition_id2competition"
   ]
  },
  {
   "cell_type": "code",
   "execution_count": 12,
   "metadata": {
    "colab": {
     "base_uri": "https://localhost:8080/"
    },
    "executionInfo": {
     "elapsed": 12,
     "status": "ok",
     "timestamp": 1642842889175,
     "user": {
      "displayName": "Luca Pappalardo",
      "photoUrl": "https://lh3.googleusercontent.com/a-/AOh14GiY2zZUzyco8cuXU-q1DdNVYsGi503ozLlQx0Qy=s64",
      "userId": "07273797434895770197"
     },
     "user_tz": -60
    },
    "id": "R3MHkkiI0QYX",
    "outputId": "aed220ca-24f2-4b33-925e-a0ac623f18b7"
   },
   "outputs": [
    {
     "data": {
      "text/plain": [
       "['Italian first division',\n",
       " 'English first division',\n",
       " 'Spanish first division',\n",
       " 'French first division',\n",
       " 'German first division',\n",
       " 'European Championship',\n",
       " 'World Cup']"
      ]
     },
     "execution_count": 12,
     "metadata": {},
     "output_type": "execute_result"
    }
   ],
   "source": [
    "[competition['name'] for competition in competition_id2competition.values()]"
   ]
  },
  {
   "cell_type": "markdown",
   "metadata": {
    "heading_collapsed": true,
    "id": "2pVX5k0t0QYX"
   },
   "source": [
    "## 3. <a id='data_collection'>How are data collected?</a>\n",
    "\n",
    "The process of tagging the soccer events from a match video. **(a)** Screenshot from the tagging software. An action is tagged by an operator via a special custom keyboard, thus creating a new event on the match timeline. **(b)** When the event position on the pitch is set, the shot specific input module appears (top). Event related input modules also appear for setting additional attributes of the occurring event (bottom).\n",
    "More details here: https://www.nature.com/articles/s41597-019-0247-7\n",
    "\n",
    "![Wyscout tagging interface](https://media.springernature.com/lw685/springer-static/image/art%3A10.1038%2Fs41597-019-0247-7/MediaObjects/41597_2019_247_Fig1_HTML.png \"Wyscout tagging interface\")\n",
    "\n"
   ]
  },
  {
   "cell_type": "markdown",
   "metadata": {
    "heading_collapsed": true,
    "id": "hQtdO7V10QYX"
   },
   "source": [
    "## 4. <a id='structure_of_data'>Structure of data<a/>"
   ]
  },
  {
   "cell_type": "markdown",
   "metadata": {
    "hidden": true,
    "id": "JtCtZjb60QYY"
   },
   "source": [
    "### 4.A. <a id='players'>Players</a>"
   ]
  },
  {
   "cell_type": "code",
   "execution_count": null,
   "metadata": {
    "colab": {
     "base_uri": "https://localhost:8080/"
    },
    "executionInfo": {
     "elapsed": 9,
     "status": "ok",
     "timestamp": 1642842889176,
     "user": {
      "displayName": "Luca Pappalardo",
      "photoUrl": "https://lh3.googleusercontent.com/a-/AOh14GiY2zZUzyco8cuXU-q1DdNVYsGi503ozLlQx0Qy=s64",
      "userId": "07273797434895770197"
     },
     "user_tz": -60
    },
    "hidden": true,
    "id": "8WemTQfN0QYY",
    "outputId": "831ca5f5-c2ce-430d-df4b-0a7539e9bfe5"
   },
   "outputs": [],
   "source": [
    "a_player = list(player_id2player.keys())[0]\n",
    "player_id2player[a_player]"
   ]
  },
  {
   "cell_type": "code",
   "execution_count": null,
   "metadata": {
    "colab": {
     "base_uri": "https://localhost:8080/",
     "height": 288
    },
    "executionInfo": {
     "elapsed": 299,
     "status": "ok",
     "timestamp": 1642842889469,
     "user": {
      "displayName": "Luca Pappalardo",
      "photoUrl": "https://lh3.googleusercontent.com/a-/AOh14GiY2zZUzyco8cuXU-q1DdNVYsGi503ozLlQx0Qy=s64",
      "userId": "07273797434895770197"
     },
     "user_tz": -60
    },
    "hidden": true,
    "id": "Sn1_YL980QYY",
    "outputId": "29f52876-0c01-4ade-b2fa-cc9ad0d86955"
   },
   "outputs": [],
   "source": [
    "heights = [player['height'] for player in player_id2player.values() if player['height'] > 0]\n",
    "plt.hist(heights, rwidth=0.8)\n",
    "plt.xlabel('height [cm]', fontsize=20)\n",
    "plt.ylabel('frequency', fontsize=20)\n",
    "plt.show()"
   ]
  },
  {
   "cell_type": "markdown",
   "metadata": {
    "id": "Y8__OxfjsmjO"
   },
   "source": [
    "## EXERCISES \n",
    "\n",
    "1. Plot the distribution of players' weight\n",
    "2. Plot the distribution of players' age (consider just the year and discard month and day)"
   ]
  },
  {
   "cell_type": "code",
   "execution_count": null,
   "metadata": {
    "executionInfo": {
     "elapsed": 8,
     "status": "ok",
     "timestamp": 1642842889470,
     "user": {
      "displayName": "Luca Pappalardo",
      "photoUrl": "https://lh3.googleusercontent.com/a-/AOh14GiY2zZUzyco8cuXU-q1DdNVYsGi503ozLlQx0Qy=s64",
      "userId": "07273797434895770197"
     },
     "user_tz": -60
    },
    "id": "l1K1P2dI9IOf"
   },
   "outputs": [],
   "source": []
  },
  {
   "cell_type": "code",
   "execution_count": null,
   "metadata": {
    "colab": {
     "base_uri": "https://localhost:8080/",
     "height": 288
    },
    "executionInfo": {
     "elapsed": 364,
     "status": "ok",
     "timestamp": 1642842889827,
     "user": {
      "displayName": "Luca Pappalardo",
      "photoUrl": "https://lh3.googleusercontent.com/a-/AOh14GiY2zZUzyco8cuXU-q1DdNVYsGi503ozLlQx0Qy=s64",
      "userId": "07273797434895770197"
     },
     "user_tz": -60
    },
    "id": "1biVknqOslmc",
    "outputId": "2cf6095d-9abd-4ee0-9ba0-d876475446d1"
   },
   "outputs": [],
   "source": [
    "heights = [player['weight'] for player in player_id2player.values() if player['weight'] > 0]\n",
    "plt.hist(heights, rwidth=0.8)\n",
    "plt.xlabel('weight [kg]', fontsize=20)\n",
    "plt.ylabel('frequency', fontsize=20)\n",
    "plt.show()"
   ]
  },
  {
   "cell_type": "code",
   "execution_count": null,
   "metadata": {
    "colab": {
     "base_uri": "https://localhost:8080/",
     "height": 288
    },
    "executionInfo": {
     "elapsed": 18,
     "status": "ok",
     "timestamp": 1642842889828,
     "user": {
      "displayName": "Luca Pappalardo",
      "photoUrl": "https://lh3.googleusercontent.com/a-/AOh14GiY2zZUzyco8cuXU-q1DdNVYsGi503ozLlQx0Qy=s64",
      "userId": "07273797434895770197"
     },
     "user_tz": -60
    },
    "id": "vwMyCkXguAhH",
    "outputId": "cb93b2fb-7b0d-4abf-bc1c-03644dffdba0"
   },
   "outputs": [],
   "source": [
    "ages = [2022 - int(player['birthDate'].split('-')[0]) for player in player_id2player.values()]\n",
    "plt.hist(ages, rwidth=0.8)\n",
    "plt.xlabel('ages', fontsize=20)\n",
    "plt.ylabel('frequency', fontsize=20)\n",
    "plt.show()"
   ]
  },
  {
   "cell_type": "markdown",
   "metadata": {
    "hidden": true,
    "id": "cJYDvv2x0QYZ"
   },
   "source": [
    "### 4.B. <a id='competitions'>Competitions</a>"
   ]
  },
  {
   "cell_type": "code",
   "execution_count": null,
   "metadata": {
    "colab": {
     "base_uri": "https://localhost:8080/"
    },
    "executionInfo": {
     "elapsed": 17,
     "status": "ok",
     "timestamp": 1642842889829,
     "user": {
      "displayName": "Luca Pappalardo",
      "photoUrl": "https://lh3.googleusercontent.com/a-/AOh14GiY2zZUzyco8cuXU-q1DdNVYsGi503ozLlQx0Qy=s64",
      "userId": "07273797434895770197"
     },
     "user_tz": -60
    },
    "hidden": true,
    "id": "sQFkqK4N0QYZ",
    "outputId": "e4ee4b18-1866-4c1a-958b-e07086ed3e62"
   },
   "outputs": [],
   "source": [
    "first_competition = list(competition_id2competition.keys())[0]\n",
    "competition_id2competition[first_competition]"
   ]
  },
  {
   "cell_type": "markdown",
   "metadata": {
    "hidden": true,
    "id": "PZvOjV_70QYZ"
   },
   "source": [
    "### 4.C. <a id='matches'>Matches</a>"
   ]
  },
  {
   "cell_type": "code",
   "execution_count": null,
   "metadata": {
    "colab": {
     "base_uri": "https://localhost:8080/"
    },
    "executionInfo": {
     "elapsed": 340,
     "status": "ok",
     "timestamp": 1642842890157,
     "user": {
      "displayName": "Luca Pappalardo",
      "photoUrl": "https://lh3.googleusercontent.com/a-/AOh14GiY2zZUzyco8cuXU-q1DdNVYsGi503ozLlQx0Qy=s64",
      "userId": "07273797434895770197"
     },
     "user_tz": -60
    },
    "hidden": true,
    "id": "ID5Fvl870QYZ",
    "outputId": "b0409a03-9082-48b0-d187-dccc21f76558"
   },
   "outputs": [],
   "source": [
    "a_match = list(match_id2match.keys())[0]\n",
    "match_id2match[a_match]#['teamsData'].keys()"
   ]
  },
  {
   "cell_type": "markdown",
   "metadata": {
    "hidden": true,
    "id": "3OrgTOLP0QYb"
   },
   "source": [
    "### Count goals in a season"
   ]
  },
  {
   "cell_type": "code",
   "execution_count": null,
   "metadata": {
    "colab": {
     "base_uri": "https://localhost:8080/"
    },
    "executionInfo": {
     "elapsed": 55,
     "status": "ok",
     "timestamp": 1642842890157,
     "user": {
      "displayName": "Luca Pappalardo",
      "photoUrl": "https://lh3.googleusercontent.com/a-/AOh14GiY2zZUzyco8cuXU-q1DdNVYsGi503ozLlQx0Qy=s64",
      "userId": "07273797434895770197"
     },
     "user_tz": -60
    },
    "id": "Iqo-GiVI_wfJ",
    "outputId": "478acc4d-e8c1-4b36-8384-d64c9cb5f04e"
   },
   "outputs": [],
   "source": [
    "a_match"
   ]
  },
  {
   "cell_type": "code",
   "execution_count": null,
   "metadata": {
    "colab": {
     "base_uri": "https://localhost:8080/",
     "height": 35
    },
    "executionInfo": {
     "elapsed": 55,
     "status": "ok",
     "timestamp": 1642842890158,
     "user": {
      "displayName": "Luca Pappalardo",
      "photoUrl": "https://lh3.googleusercontent.com/a-/AOh14GiY2zZUzyco8cuXU-q1DdNVYsGi503ozLlQx0Qy=s64",
      "userId": "07273797434895770197"
     },
     "user_tz": -60
    },
    "id": "PNjjRh3f_0e_",
    "outputId": "0c50ab7f-f123-468b-9eb3-9140748be404"
   },
   "outputs": [],
   "source": [
    "match_id2match[a_match]['label']"
   ]
  },
  {
   "cell_type": "code",
   "execution_count": null,
   "metadata": {
    "colab": {
     "base_uri": "https://localhost:8080/",
     "height": 35
    },
    "executionInfo": {
     "elapsed": 54,
     "status": "ok",
     "timestamp": 1642842890158,
     "user": {
      "displayName": "Luca Pappalardo",
      "photoUrl": "https://lh3.googleusercontent.com/a-/AOh14GiY2zZUzyco8cuXU-q1DdNVYsGi503ozLlQx0Qy=s64",
      "userId": "07273797434895770197"
     },
     "user_tz": -60
    },
    "id": "oCCL1aLe0QYc",
    "outputId": "e9628f75-23a8-4879-d144-e26003209b80"
   },
   "outputs": [],
   "source": [
    "match_id2match[a_match]['label']"
   ]
  },
  {
   "cell_type": "code",
   "execution_count": null,
   "metadata": {
    "colab": {
     "base_uri": "https://localhost:8080/"
    },
    "executionInfo": {
     "elapsed": 53,
     "status": "ok",
     "timestamp": 1642842890158,
     "user": {
      "displayName": "Luca Pappalardo",
      "photoUrl": "https://lh3.googleusercontent.com/a-/AOh14GiY2zZUzyco8cuXU-q1DdNVYsGi503ozLlQx0Qy=s64",
      "userId": "07273797434895770197"
     },
     "user_tz": -60
    },
    "hidden": true,
    "id": "P_YWteHF0QYc",
    "outputId": "c67ec898-3a53-4074-dfd4-027383c817c3"
   },
   "outputs": [],
   "source": [
    "sum_goals = 0\n",
    "for match_id, match in match_id2match.items():\n",
    "    goals = match['label'].split(', ')[1].split(' - ')\n",
    "    goals = [int(goal) for goal in goals]\n",
    "    sum_goals += sum(goals)\n",
    "sum_goals"
   ]
  },
  {
   "cell_type": "markdown",
   "metadata": {
    "hidden": true,
    "id": "FVHnl9dR0QYc"
   },
   "source": [
    "### Count average goals per match"
   ]
  },
  {
   "cell_type": "code",
   "execution_count": null,
   "metadata": {
    "colab": {
     "base_uri": "https://localhost:8080/"
    },
    "executionInfo": {
     "elapsed": 51,
     "status": "ok",
     "timestamp": 1642842890159,
     "user": {
      "displayName": "Luca Pappalardo",
      "photoUrl": "https://lh3.googleusercontent.com/a-/AOh14GiY2zZUzyco8cuXU-q1DdNVYsGi503ozLlQx0Qy=s64",
      "userId": "07273797434895770197"
     },
     "user_tz": -60
    },
    "hidden": true,
    "id": "lY2kzOFp0QYc",
    "outputId": "afc7ce5b-4a77-4256-eafc-025675b4f198"
   },
   "outputs": [],
   "source": [
    "goals_in_match = []\n",
    "for match_id, match in match_id2match.items():\n",
    "    goals = match['label'].split(', ')[1].split(' - ')\n",
    "    goals = [int(goal) for goal in goals]\n",
    "    goals_in_match.append(sum(goals))\n",
    "round(np.mean(goals_in_match), 2)"
   ]
  },
  {
   "cell_type": "markdown",
   "metadata": {
    "id": "mqW5HF-IuRzl"
   },
   "source": [
    "## EXERCISES\n",
    "\n",
    "Compute the percentage of draws (pareggi) over the total number of matches in the dataset"
   ]
  },
  {
   "cell_type": "code",
   "execution_count": null,
   "metadata": {
    "colab": {
     "base_uri": "https://localhost:8080/"
    },
    "executionInfo": {
     "elapsed": 49,
     "status": "ok",
     "timestamp": 1642842890159,
     "user": {
      "displayName": "Luca Pappalardo",
      "photoUrl": "https://lh3.googleusercontent.com/a-/AOh14GiY2zZUzyco8cuXU-q1DdNVYsGi503ozLlQx0Qy=s64",
      "userId": "07273797434895770197"
     },
     "user_tz": -60
    },
    "id": "j5DJ7ZvyBGEU",
    "outputId": "9de38515-a70d-4980-f38c-b20ac249ea80"
   },
   "outputs": [],
   "source": [
    "sum_draws = 0\n",
    "for match_id, match in match_id2match.items():\n",
    "    goals = match['label'].split(', ')[1].split(' - ')\n",
    "    if goals[0] == goals[1]:\n",
    "        sum_draws += 1\n",
    "frac_draws = sum_draws / len(match_id2match) * 100\n",
    "frac_draws"
   ]
  },
  {
   "cell_type": "markdown",
   "metadata": {
    "hidden": true,
    "id": "YRvF6xUJ0QYd"
   },
   "source": [
    "### 4.D. <a id='events'>Events</a>"
   ]
  },
  {
   "cell_type": "code",
   "execution_count": null,
   "metadata": {
    "colab": {
     "base_uri": "https://localhost:8080/"
    },
    "executionInfo": {
     "elapsed": 40,
     "status": "ok",
     "timestamp": 1642842890160,
     "user": {
      "displayName": "Luca Pappalardo",
      "photoUrl": "https://lh3.googleusercontent.com/a-/AOh14GiY2zZUzyco8cuXU-q1DdNVYsGi503ozLlQx0Qy=s64",
      "userId": "07273797434895770197"
     },
     "user_tz": -60
    },
    "hidden": true,
    "id": "yV89i4ss0QYd",
    "outputId": "8b98e3a7-825f-478b-d961-39987d21e453"
   },
   "outputs": [],
   "source": [
    "match_id2events[a_match][0]"
   ]
  },
  {
   "cell_type": "markdown",
   "metadata": {
    "hidden": true,
    "id": "a1WkO-190QYd"
   },
   "source": [
    "### List distinct combination of event types and subtypes\n",
    "refer to https://apidocs.wyscout.com/ for further information about event and subevents"
   ]
  },
  {
   "cell_type": "code",
   "execution_count": null,
   "metadata": {
    "colab": {
     "base_uri": "https://localhost:8080/"
    },
    "executionInfo": {
     "elapsed": 657,
     "status": "ok",
     "timestamp": 1642842890779,
     "user": {
      "displayName": "Luca Pappalardo",
      "photoUrl": "https://lh3.googleusercontent.com/a-/AOh14GiY2zZUzyco8cuXU-q1DdNVYsGi503ozLlQx0Qy=s64",
      "userId": "07273797434895770197"
     },
     "user_tz": -60
    },
    "hidden": true,
    "id": "HRWY5ax20QYd",
    "outputId": "83f13732-ebbb-4029-ce88-5dbd0bbbfb97"
   },
   "outputs": [],
   "source": [
    "event_types = []\n",
    "for match_id, events in match_id2events.items():\n",
    "    for event in events:\n",
    "        event_types.append((event['eventName'], event['subEventName']))\n",
    "set(event_types)"
   ]
  },
  {
   "cell_type": "markdown",
   "metadata": {
    "heading_collapsed": true,
    "id": "y9sMUgod0QYe"
   },
   "source": [
    "## 5. <a id='basic_statistics'>Basic statistics</a>"
   ]
  },
  {
   "cell_type": "markdown",
   "metadata": {
    "hidden": true,
    "id": "s5pZ_ecn0QYe"
   },
   "source": [
    "### 5.A. <a id=\"frequency_by_type\">Frequency of events per type</a>\n",
    "\n",
    "For each event type, we plot how frequent it is in the events data set."
   ]
  },
  {
   "cell_type": "code",
   "execution_count": null,
   "metadata": {
    "colab": {
     "base_uri": "https://localhost:8080/",
     "height": 441
    },
    "executionInfo": {
     "elapsed": 448,
     "status": "ok",
     "timestamp": 1642842891225,
     "user": {
      "displayName": "Luca Pappalardo",
      "photoUrl": "https://lh3.googleusercontent.com/a-/AOh14GiY2zZUzyco8cuXU-q1DdNVYsGi503ozLlQx0Qy=s64",
      "userId": "07273797434895770197"
     },
     "user_tz": -60
    },
    "hidden": true,
    "id": "1jFsFUdO0QYe",
    "outputId": "397030bd-0f15-4c7d-b0d3-2318afff596d"
   },
   "outputs": [],
   "source": [
    "events_list = []\n",
    "for match_id, events in match_id2events.items():\n",
    "    for event in events:\n",
    "        events_list.append(event['eventName'])\n",
    "\n",
    "count = Counter(events_list)\n",
    "# express frequency in percentage\n",
    "counter = {}\n",
    "for i, n_events in zip(count.keys(), count.values()):\n",
    "    counter[i] = int(float(n_events)/len(events_list)*100)\n",
    "sorted_d = np.array(sorted(counter.items(), key=operator.itemgetter(1), reverse=False))\n",
    "\n",
    "#bar plot\n",
    "fig, ax = plt.subplots(figsize=(8,6))\n",
    "plt.barh(list(sorted_d[:,0]),[int(x) for x in list(sorted_d[:,1])])\n",
    "plt.xticks(rotation=90);plt.xticks(fontsize=18)\n",
    "plt.xlabel('events (%)', fontsize=25)\n",
    "plt.yticks(fontsize=18)\n",
    "plt.grid(alpha=0.3)\n",
    "fig.tight_layout()\n",
    "plt.show()"
   ]
  },
  {
   "cell_type": "markdown",
   "metadata": {
    "hidden": true,
    "id": "Bd8op6dh0QYe"
   },
   "source": [
    "### 5.B. <a id='events_per_match'>Distribution of the number of events per match</a>\n",
    "We compute the number of events in each match. We then plot the distribution of this quantity."
   ]
  },
  {
   "cell_type": "code",
   "execution_count": null,
   "metadata": {
    "colab": {
     "base_uri": "https://localhost:8080/",
     "height": 441
    },
    "executionInfo": {
     "elapsed": 311,
     "status": "ok",
     "timestamp": 1642842891976,
     "user": {
      "displayName": "Luca Pappalardo",
      "photoUrl": "https://lh3.googleusercontent.com/a-/AOh14GiY2zZUzyco8cuXU-q1DdNVYsGi503ozLlQx0Qy=s64",
      "userId": "07273797434895770197"
     },
     "user_tz": -60
    },
    "hidden": true,
    "id": "ZSn9bEou0QYf",
    "outputId": "c40abcf9-1a6b-4a55-fbcd-83f809085dd9"
   },
   "outputs": [],
   "source": [
    "values = [len(events) for events in match_id2events.values()]\n",
    "avg_n_events = np.mean(values)\n",
    "std_n_events = np.std(values)\n",
    "\n",
    "fig, ax = plt.subplots(figsize=(8,6))\n",
    "plt.hist(values, rwidth=0.9, bins=20)\n",
    "plt.grid(alpha=0.3)\n",
    "plt.yticks(fontsize=18)\n",
    "plt.xlabel('events (n)', fontsize=25)\n",
    "plt.ylabel('frequency (n)', fontsize=25)\n",
    "plt.xticks(fontsize=18)\n",
    "plt.text(0.1, 0.7, \n",
    "         '$\\mu$ = %i\\n$\\sigma$ = %i'%(avg_n_events, std_n_events), \n",
    "         fontsize=25, transform=ax.transAxes)\n",
    "fig.tight_layout()\n",
    "plt.show()"
   ]
  },
  {
   "cell_type": "markdown",
   "metadata": {
    "id": "-XaQ2hUNvFd4"
   },
   "source": [
    "## EXERCISES\n",
    "\n",
    "Compute the distribution of the number of passes per match"
   ]
  },
  {
   "cell_type": "code",
   "execution_count": null,
   "metadata": {
    "executionInfo": {
     "elapsed": 10,
     "status": "ok",
     "timestamp": 1642842891977,
     "user": {
      "displayName": "Luca Pappalardo",
      "photoUrl": "https://lh3.googleusercontent.com/a-/AOh14GiY2zZUzyco8cuXU-q1DdNVYsGi503ozLlQx0Qy=s64",
      "userId": "07273797434895770197"
     },
     "user_tz": -60
    },
    "id": "zB1zX_5NwR2c"
   },
   "outputs": [],
   "source": []
  },
  {
   "cell_type": "markdown",
   "metadata": {
    "heading_collapsed": true,
    "id": "oYnigjw60QYf"
   },
   "source": [
    "## 6. <a id='plot_events_on_field'>Plot events on the field</a>\n",
    "We take an examplar match and plot on a soccer field all the events of the two teams. Each event is plotted on the position of the field where it has occurred."
   ]
  },
  {
   "cell_type": "code",
   "execution_count": null,
   "metadata": {
    "colab": {
     "base_uri": "https://localhost:8080/",
     "height": 424
    },
    "executionInfo": {
     "elapsed": 10,
     "status": "ok",
     "timestamp": 1642842891978,
     "user": {
      "displayName": "Luca Pappalardo",
      "photoUrl": "https://lh3.googleusercontent.com/a-/AOh14GiY2zZUzyco8cuXU-q1DdNVYsGi503ozLlQx0Qy=s64",
      "userId": "07273797434895770197"
     },
     "user_tz": -60
    },
    "hidden": true,
    "id": "fr63NyYH0QYf",
    "outputId": "db028e8e-56b4-48af-d2ea-dc357c6d6a86"
   },
   "outputs": [],
   "source": [
    "match_id = 2576335 # a single match in Italy\n",
    "match_events = match_id2events[match_id]\n",
    "match_label = match_id2match[match_id]['label']\n",
    "            \n",
    "match_df = pd.DataFrame(match_events)\n",
    "match_df.head()"
   ]
  },
  {
   "cell_type": "code",
   "execution_count": null,
   "metadata": {
    "executionInfo": {
     "elapsed": 10,
     "status": "ok",
     "timestamp": 1642842891979,
     "user": {
      "displayName": "Luca Pappalardo",
      "photoUrl": "https://lh3.googleusercontent.com/a-/AOh14GiY2zZUzyco8cuXU-q1DdNVYsGi503ozLlQx0Qy=s64",
      "userId": "07273797434895770197"
     },
     "user_tz": -60
    },
    "hidden": true,
    "id": "1iN5KCD40QYf"
   },
   "outputs": [],
   "source": [
    "match_df['x_start'] = [x[0]['x'] for x in match_df['positions']]\n",
    "match_df['y_start'] = [x[0]['y'] for x in match_df['positions']]"
   ]
  },
  {
   "cell_type": "markdown",
   "metadata": {
    "hidden": true,
    "id": "dguMlv9N0QYg"
   },
   "source": [
    "### 6.A. <a id='static_plot'>Static plot</a>"
   ]
  },
  {
   "cell_type": "code",
   "execution_count": null,
   "metadata": {
    "colab": {
     "base_uri": "https://localhost:8080/",
     "height": 422
    },
    "executionInfo": {
     "elapsed": 564,
     "status": "ok",
     "timestamp": 1642842892533,
     "user": {
      "displayName": "Luca Pappalardo",
      "photoUrl": "https://lh3.googleusercontent.com/a-/AOh14GiY2zZUzyco8cuXU-q1DdNVYsGi503ozLlQx0Qy=s64",
      "userId": "07273797434895770197"
     },
     "user_tz": -60
    },
    "hidden": true,
    "id": "wL0iXwSJ0QYg",
    "outputId": "1f88fdfb-910e-41fb-fd85-b5f6a963d1bf"
   },
   "outputs": [],
   "source": [
    "team_1, team_2 = np.unique(match_df['teamId'])\n",
    "df_team_1 = match_df[match_df['teamId'] == team_1]\n",
    "df_team_2 = match_df[match_df['teamId'] == team_2]\n",
    "\n",
    "f = draw_pitch(\"white\", \"black\", \"h\", \"full\")\n",
    "plt.scatter(df_team_1['x_start'], df_team_1['y_start'], c='red', edgecolors=\"k\", zorder=12, \n",
    "            alpha=0.5, label='%s: %s events' %(team_id2team[team_1]['name'], len(df_team_1)))\n",
    "plt.scatter(df_team_2['x_start'], df_team_2['y_start'], marker='s', c='blue', edgecolors=\"w\", linewidth=0.25, zorder=12, \n",
    "            alpha=0.7, label='%s: %s events' %(team_id2team[team_2]['name'], len(df_team_2)))\n",
    "plt.legend(fontsize=20, bbox_to_anchor=(1.01, 1.05))\n",
    "plt.title(match_label, fontsize=20)\n",
    "plt.show()"
   ]
  },
  {
   "cell_type": "code",
   "execution_count": null,
   "metadata": {
    "executionInfo": {
     "elapsed": 9,
     "status": "ok",
     "timestamp": 1642842892533,
     "user": {
      "displayName": "Luca Pappalardo",
      "photoUrl": "https://lh3.googleusercontent.com/a-/AOh14GiY2zZUzyco8cuXU-q1DdNVYsGi503ozLlQx0Qy=s64",
      "userId": "07273797434895770197"
     },
     "user_tz": -60
    },
    "hidden": true,
    "id": "wDux436t0QYg"
   },
   "outputs": [],
   "source": [
    "def plot_events(match_id=2576335, team_id='both', event_name='all'):\n",
    "    \"\"\"\n",
    "    Plot the events onthe position where they have been generated.\n",
    "    \n",
    "    Parameters\n",
    "    ----------\n",
    "    match_id : int, optional\n",
    "        identifier of the match to plot\n",
    "        \n",
    "    team_id : str or int, optional\n",
    "        the identifier of the team to plot. \n",
    "        If 'both', it indicates to plot both teams The default is 'both'.\n",
    "        \n",
    "    event_name : str, optional\n",
    "        the type of the event to plot. If 'all', it plots all the events.\n",
    "        The defauult is 'all'.\n",
    "    \"\"\"\n",
    "    match_label = match_id2match[match_id]['label']\n",
    "    match_events = match_id2events[match_id]\n",
    "    selected_events = []\n",
    "    for event in match_events:\n",
    "        if team_id == 'both' or event['teamId'] == team_id:\n",
    "            if event_name == 'all' or event['eventName'] == event_name:\n",
    "                selected_events.append(event)\n",
    "    \n",
    "    match_df = pd.DataFrame(selected_events)\n",
    "    match_df['x_start'] = [x[0]['x'] for x in match_df['positions']]\n",
    "    match_df['y_start'] = [x[0]['y'] for x in match_df['positions']]\n",
    "    \n",
    "    if team_id == 'both':\n",
    "        team_1, team_2 = np.unique(match_df['teamId'])\n",
    "        df_team_1 = match_df[match_df['teamId'] == team_1]\n",
    "        df_team_2 = match_df[match_df['teamId'] == team_2]\n",
    "    else:\n",
    "        df_team = match_df[match_df['teamId'] == team_id]\n",
    "    \n",
    "    f = draw_pitch(\"white\", \"black\", \"h\", \"full\")\n",
    "    if team_id == 'both':\n",
    "        plt.scatter(df_team_1['x_start'], df_team_1['y_start'], c='red', edgecolors=\"k\", zorder=12, \n",
    "            alpha=0.5, label='%s: %s %s' %(team_id2team[team_1]['name'], len(df_team_1), 'events' if event_name=='all' else event_name))\n",
    "        plt.scatter(df_team_2['x_start'], df_team_2['y_start'], marker='s', c='blue', edgecolors=\"w\", linewidth=0.25, zorder=12, \n",
    "                    alpha=0.7, label='%s: %s %s' %(team_id2team[team_2]['name'], len(df_team_2), 'events' if event_name=='all' else event_name))\n",
    "        plt.legend(fontsize=20, bbox_to_anchor=(1.01, 1.05))\n",
    "    else:\n",
    "        plt.scatter(df_team['x_start'], df_team['y_start'], \n",
    "                    c='red', edgecolors=\"k\", zorder=12, alpha=0.5,\n",
    "                   label='%s: %s %s' %(team_id2team[team_id]['name'], len(df_team), 'events' if event_name=='all' else event_name))\n",
    "    plt.title(match_label, fontsize=20)\n",
    "    plt.legend(fontsize=20, bbox_to_anchor=(1.01, 1.05))\n",
    "    plt.show()\n",
    " "
   ]
  },
  {
   "cell_type": "code",
   "execution_count": null,
   "metadata": {
    "colab": {
     "base_uri": "https://localhost:8080/",
     "height": 1000
    },
    "executionInfo": {
     "elapsed": 1394,
     "status": "ok",
     "timestamp": 1642842894542,
     "user": {
      "displayName": "Luca Pappalardo",
      "photoUrl": "https://lh3.googleusercontent.com/a-/AOh14GiY2zZUzyco8cuXU-q1DdNVYsGi503ozLlQx0Qy=s64",
      "userId": "07273797434895770197"
     },
     "user_tz": -60
    },
    "hidden": true,
    "id": "bGa_nkYe0QYh",
    "outputId": "89daff2a-e470-4c46-87eb-840d422067d6"
   },
   "outputs": [],
   "source": [
    "match_id, team1, team2 = 2576335, 3161, 3162\n",
    "plot_events(team_id=3161)\n",
    "plot_events(team_id=3162)\n",
    "plot_events(team_id='both')"
   ]
  },
  {
   "cell_type": "code",
   "execution_count": null,
   "metadata": {
    "colab": {
     "base_uri": "https://localhost:8080/",
     "height": 1000
    },
    "executionInfo": {
     "elapsed": 9,
     "status": "ok",
     "timestamp": 1642842894543,
     "user": {
      "displayName": "Luca Pappalardo",
      "photoUrl": "https://lh3.googleusercontent.com/a-/AOh14GiY2zZUzyco8cuXU-q1DdNVYsGi503ozLlQx0Qy=s64",
      "userId": "07273797434895770197"
     },
     "user_tz": -60
    },
    "hidden": true,
    "id": "Fc5efQP10QYh",
    "outputId": "41871bbc-a0f7-4a1d-e849-867a9b3cadda"
   },
   "outputs": [],
   "source": [
    "match_id, team1, team2, event_name = 2576335, 3161, 3162, 'Foul'\n",
    "plot_events(team_id=3161, event_name=event_name)\n",
    "plot_events(team_id=3162, event_name=event_name)\n",
    "plot_events(team_id='both', event_name=event_name)"
   ]
  },
  {
   "cell_type": "markdown",
   "metadata": {
    "hidden": true,
    "id": "b9Cuf27M0QYi"
   },
   "source": [
    "### 6.B. <a id='interactive_plot'>Interactive plot</a>"
   ]
  },
  {
   "cell_type": "code",
   "execution_count": null,
   "metadata": {
    "executionInfo": {
     "elapsed": 7,
     "status": "ok",
     "timestamp": 1642842894543,
     "user": {
      "displayName": "Luca Pappalardo",
      "photoUrl": "https://lh3.googleusercontent.com/a-/AOh14GiY2zZUzyco8cuXU-q1DdNVYsGi503ozLlQx0Qy=s64",
      "userId": "07273797434895770197"
     },
     "user_tz": -60
    },
    "id": "R8ynaUzKd2P3"
   },
   "outputs": [],
   "source": [
    "pio.renderers.default = 'colab'"
   ]
  },
  {
   "cell_type": "code",
   "execution_count": null,
   "metadata": {
    "executionInfo": {
     "elapsed": 249,
     "status": "ok",
     "timestamp": 1642842910729,
     "user": {
      "displayName": "Luca Pappalardo",
      "photoUrl": "https://lh3.googleusercontent.com/a-/AOh14GiY2zZUzyco8cuXU-q1DdNVYsGi503ozLlQx0Qy=s64",
      "userId": "07273797434895770197"
     },
     "user_tz": -60
    },
    "id": "zSOq9lF5EWUr"
   },
   "outputs": [],
   "source": [
    "def visualize_events(match_id=2576335, player_id='all', team_id='both', event_name='all'):\n",
    "    \"\"\"\n",
    "    Visualize all the events of a match on the soccer pitch.\n",
    "    \n",
    "    Parameters\n",
    "    ----------\n",
    "    match_id : int, optional\n",
    "        identifier of the match to plot\n",
    "        \n",
    "    team_id : str or int, optional\n",
    "        the identifier of the team to plot. \n",
    "        If 'both', it indicates to plot both teams The default is 'both'.\n",
    "        \n",
    "    event_name : str, optional\n",
    "        the type of the event to plot. If 'all', it plots all the events.\n",
    "        The defauult is 'all'.\n",
    "    \"\"\"\n",
    "    \n",
    "    match_events = []\n",
    "    for event in match_id2events[match_id]:\n",
    "        if team_id == 'both' or event['teamId'] == team_id:\n",
    "            if event_name == 'all' or event['eventName'] == event_name:\n",
    "                if player_id == 'all' or event['playerId'] == player_id:\n",
    "                    match_events.append(event)\n",
    "    \n",
    "    match = match_id2match[match_id] \n",
    "    match_label = match['label']\n",
    "    \n",
    "    team1, team2 = match['teamsData'].keys()\n",
    "    team_name1, team_name2 = team_id2team[int(team1)]['name'], team_id2team[int(team2)]['name']\n",
    "    \n",
    "    # Create and style traces\n",
    "    names_ = []\n",
    "    for event in match_events:\n",
    "      try:\n",
    "        names_.append('%s by %s (%s)' %(event['eventName'], player_id2player[event['playerId']]['lastName'].encode('ascii', 'strict').decode('unicode-escape'), event['playerId']))\n",
    "      except:\n",
    "        names_.append('---')\n",
    "\n",
    " \n",
    "\n",
    "    trace1 = go.Scatter(\n",
    "        x = [event['positions'][0]['x'] for event in match_events if str(event['teamId']) == team1],\n",
    "        y = [event['positions'][0]['y'] for event in match_events if str(event['teamId']) == team1],\n",
    "        text = names_,\n",
    "        mode = 'markers',\n",
    "        name = team_name1,\n",
    "        marker = dict(\n",
    "            size = 8,\n",
    "            color = 'red',\n",
    "        )\n",
    "    )\n",
    "\n",
    " \n",
    "\n",
    "    trace2 = go.Scatter(\n",
    "        x = [event['positions'][0]['x'] for event in match_events if str(event['teamId']) == team2],\n",
    "        y = [event['positions'][0]['y'] for event in match_events if str(event['teamId']) == team2],\n",
    "        text = names_,\n",
    "        mode = 'markers',\n",
    "        name = team_name2,\n",
    "        marker = dict(\n",
    "            size = 8,\n",
    "            color = 'blue',\n",
    "            symbol='square'\n",
    "        )\n",
    "    )\n",
    "\n",
    " \n",
    "\n",
    "    fig = dict(data=[trace1, trace2], layout=get_pitch_layout(match_label))\n",
    "    fig['data'][0]['name'] = team_name1\n",
    "    fig['data'][1]['name'] = team_name2\n",
    "    iplot(fig)"
   ]
  },
  {
   "cell_type": "code",
   "execution_count": null,
   "metadata": {
    "colab": {
     "base_uri": "https://localhost:8080/",
     "height": 617
    },
    "executionInfo": {
     "elapsed": 2560,
     "status": "ok",
     "timestamp": 1642842923193,
     "user": {
      "displayName": "Luca Pappalardo",
      "photoUrl": "https://lh3.googleusercontent.com/a-/AOh14GiY2zZUzyco8cuXU-q1DdNVYsGi503ozLlQx0Qy=s64",
      "userId": "07273797434895770197"
     },
     "user_tz": -60
    },
    "hidden": true,
    "id": "fNVhb23G0QYi",
    "outputId": "cd982b33-468a-42d7-99c7-783cfb744581"
   },
   "outputs": [],
   "source": [
    "visualize_events(event_name='Pass')"
   ]
  },
  {
   "cell_type": "code",
   "execution_count": null,
   "metadata": {
    "colab": {
     "base_uri": "https://localhost:8080/",
     "height": 617
    },
    "executionInfo": {
     "elapsed": 499,
     "status": "ok",
     "timestamp": 1642842928503,
     "user": {
      "displayName": "Luca Pappalardo",
      "photoUrl": "https://lh3.googleusercontent.com/a-/AOh14GiY2zZUzyco8cuXU-q1DdNVYsGi503ozLlQx0Qy=s64",
      "userId": "07273797434895770197"
     },
     "user_tz": -60
    },
    "hidden": true,
    "id": "OtAE20UJ0QYj",
    "outputId": "4787c38f-6bbc-4c6e-c006-f2c002fa1698"
   },
   "outputs": [],
   "source": [
    "visualize_events(event_name='Duel')"
   ]
  },
  {
   "cell_type": "code",
   "execution_count": null,
   "metadata": {
    "colab": {
     "base_uri": "https://localhost:8080/",
     "height": 617
    },
    "executionInfo": {
     "elapsed": 519,
     "status": "ok",
     "timestamp": 1642842934034,
     "user": {
      "displayName": "Luca Pappalardo",
      "photoUrl": "https://lh3.googleusercontent.com/a-/AOh14GiY2zZUzyco8cuXU-q1DdNVYsGi503ozLlQx0Qy=s64",
      "userId": "07273797434895770197"
     },
     "user_tz": -60
    },
    "id": "UFEMzJN40QYj",
    "outputId": "51103cf1-8f26-4945-f1d9-90cb704e9089"
   },
   "outputs": [],
   "source": [
    "player_id = 116349\n",
    "visualize_events(event_name='Foul', player_id=player_id)"
   ]
  },
  {
   "cell_type": "markdown",
   "metadata": {
    "id": "y7DQfl6Jwf91"
   },
   "source": [
    "## EXERCISES\n",
    "\n",
    "1. Visualize an interactive plot with all duels\n",
    "2. Visualize an interactive plot with all duels of player 116349"
   ]
  },
  {
   "cell_type": "code",
   "execution_count": null,
   "metadata": {
    "id": "0kNR2fO_wsLL"
   },
   "outputs": [],
   "source": []
  },
  {
   "cell_type": "code",
   "execution_count": null,
   "metadata": {
    "id": "6k8MLDxfxIOW"
   },
   "outputs": [],
   "source": []
  },
  {
   "cell_type": "markdown",
   "metadata": {
    "heading_collapsed": true,
    "id": "thdlSLNR0QYj"
   },
   "source": [
    "## 7. <a id='spatial_distribution_events'>Spatial distribution of events</a>\n",
    "\n",
    "Distribution of positions per event type. Kernel density plots showing the distribution of the events’ positions during match. The darker is the green, the higher is the number of events in a specific field zone."
   ]
  },
  {
   "cell_type": "code",
   "execution_count": null,
   "metadata": {
    "hidden": true,
    "id": "RFJfRiiS0QYj"
   },
   "outputs": [],
   "source": [
    "def plot_kde_events_on_field(sample_size=10000):\n",
    "    \"\"\"\n",
    "    Generate density plots on the field for each event type\n",
    "    \n",
    "    Parameters\n",
    "    ----------\n",
    "    sample_size: int\n",
    "        random sample of values to use (default: 10000). The code becomes slow is you increase this value\n",
    "        significantly.\n",
    "    \"\"\"\n",
    "    positions = []\n",
    "    for match_events in match_id2events.values():\n",
    "        for event in match_events:\n",
    "            positions.append([event['eventName'], \n",
    "                              event['positions'][0]['x'], \n",
    "                              event['positions'][0]['y']])\n",
    "\n",
    "    positions_df = pd.DataFrame(positions, columns=['eventName','x','y'])\n",
    "\n",
    "    for event_type in EVENT_TYPES:\n",
    "        pos_event_df = positions_df[positions_df['eventName'] == event_type]\n",
    "        fig, ax = pitch()\n",
    "        if len(pos_event_df) >= sample_size:\n",
    "            x_y = pos_event_df[['x','y']].sample(sample_size).astype(float)\n",
    "        else:\n",
    "            x_y = pos_event_df[['x','y']].astype(float)\n",
    "        \n",
    "        sns.kdeplot(x_y['x'], x_y['y'], cmap = 'Greens', shade = True)\n",
    "        \n",
    "        plt.title(event_type, fontsize = 30)\n",
    "        plt.xlim(-1,101)\n",
    "        plt.ylim(-1,101)\n",
    "        plt.axis('off')\n",
    "        fig.tight_layout()\n",
    "        plt.show()"
   ]
  },
  {
   "cell_type": "code",
   "execution_count": null,
   "metadata": {
    "hidden": true,
    "id": "N62MUkcy0QYk"
   },
   "outputs": [],
   "source": [
    "plot_kde_events_on_field(sample_size=1000)"
   ]
  },
  {
   "cell_type": "markdown",
   "metadata": {
    "heading_collapsed": true,
    "id": "bChkm_YO0QYk"
   },
   "source": [
    "## 8. <a id='intra_match_evolution'>Intra-match evolution of the events</a>\n",
    "\n",
    "In-match evolution of the number of events. Number of events (e.g., goals on the top plot, yellow cards\n",
    "in the middle plot and the red cards in the bottom plot) that occur in all the matches in the data set, with time\n",
    "windows of 5 minutes."
   ]
  },
  {
   "cell_type": "code",
   "execution_count": null,
   "metadata": {
    "hidden": true,
    "id": "gg3bkT9L0QYk"
   },
   "outputs": [],
   "source": [
    "def in_match_evolution(event_name='Goal', event_tag=101):\n",
    "    \"\"\"\n",
    "    Plot the in-match evolution of the number of events of a specific type.\n",
    "    \n",
    "    Parameters\n",
    "    ----------\n",
    "    event_name : str, optional\n",
    "        the type of event to plot. The default is \"Goal\".\n",
    "        \n",
    "    event_tag : int, optional\n",
    "        the type of tag to plot. The default is 101.\n",
    "    \"\"\"\n",
    "    # slect specific event in accordance with event_tag\n",
    "    events_time = []\n",
    "    for match_id, match_events in match_id2events.items():\n",
    "        for event in match_events:\n",
    "            tags = event['tags']\n",
    "            for tag in tags:\n",
    "                if tag['id'] == event_tag:\n",
    "                    events_time.append([event['matchId'], \n",
    "                                        event['matchPeriod'], \n",
    "                                        event['eventSec']])\n",
    "                \n",
    "    # let us convert it into a DataFrame\n",
    "    event_df = pd.DataFrame(events_time, columns=['matchId','matchPeriod','eventSec'])\n",
    "    \n",
    "    # create figure\n",
    "    fig, ax = plt.subplots(figsize=(8,6))\n",
    "    \n",
    "    start_bin_2h = 11\n",
    "    \n",
    "    # define plot characteristics for 1H e 2H\n",
    "    for half, color_bar in zip(['1H','2H'],['blue','green']):\n",
    "        \n",
    "        # define DataFrame per half time\n",
    "        df_half = event_df[event_df['matchPeriod'] == half].sort_values(['matchPeriod','eventSec'])\n",
    "        \n",
    "        # create bins every 5 minutes\n",
    "        df_half['binned'] = df_half['eventSec'].pipe(lambda x: pd.to_timedelta(x, \"s\")).dt.floor(\"5min\").astype(\"category\").cat.codes\n",
    "        \n",
    "        # merge bins up to 45 minutes \n",
    "        df_half['binned'] = [9 if x>9 else x for x in df_half['binned']]\n",
    "        \n",
    "        # plot bin for second half\n",
    "        if half == '2H':\n",
    "            df_half['binned'] = [x+start_bin_2h for x in df_half['binned']]\n",
    "            \n",
    "        # barplot\n",
    "        count = Counter(df_half.binned)\n",
    "        barlist = plt.bar(count.keys(),count.values(),\n",
    "                          label=half,color=color_bar)\n",
    "        \n",
    "    plt.legend(loc=2, fontsize=15, frameon=True, shadow=True)\n",
    "    plt.xticks(list(range(0,23)),['0-5','5-10','10-15','15-20','20-25','25-30','30-35','35-40','40-45','>45','',\n",
    "                                  '45-50','50-55','55-60','60-65','65-70','70-75','75-80','80-85','85-90','>90'],\n",
    "              rotation=90, fontsize=18)\n",
    "    plt.yticks(fontsize=18)\n",
    "    max_count_value = np.max(list(count.values()))\n",
    "    plt.text(9.65, max_count_value-(max_count_value/100*10), 'half time', rotation=90, \n",
    "             bbox=dict(facecolor='w',edgecolor='r'),\n",
    "             verticalalignment='center', horizontalalignment='left', fontsize=15, \n",
    "             color='tomato')\n",
    "    plt.vlines(10, 0, max_count_value+(max_count_value/100*10),colors='r',alpha=0.5)\n",
    "    plt.ylim(0,max_count_value+(max_count_value/100*10))\n",
    "    plt.xlabel('match time (min)', fontsize=25)\n",
    "    plt.ylabel('%s (n)'%event_name, fontsize=25)\n",
    "    plt.grid(alpha=0.3)\n",
    "    fig.tight_layout()\n",
    "    plt.show()"
   ]
  },
  {
   "cell_type": "code",
   "execution_count": null,
   "metadata": {
    "hidden": true,
    "id": "szlk7FdO0QYl"
   },
   "outputs": [],
   "source": [
    "in_match_evolution(event_name='Goal', event_tag=101)"
   ]
  },
  {
   "cell_type": "code",
   "execution_count": null,
   "metadata": {
    "hidden": true,
    "id": "5EHVLMox0QYl"
   },
   "outputs": [],
   "source": [
    "in_match_evolution(event_name='Yellow Card', event_tag=1702)"
   ]
  },
  {
   "cell_type": "code",
   "execution_count": null,
   "metadata": {
    "hidden": true,
    "id": "CVp2PftY0QYm"
   },
   "outputs": [],
   "source": [
    "in_match_evolution(event_name='Red Card', event_tag=1701)"
   ]
  },
  {
   "cell_type": "markdown",
   "metadata": {
    "heading_collapsed": true,
    "id": "3pk-1kF70QYm"
   },
   "source": [
    "## 9. <a id='advanced_statistics'>Advanced Statistics</a>"
   ]
  },
  {
   "cell_type": "markdown",
   "metadata": {
    "heading_collapsed": true,
    "id": "6JKR7BiX0QYm"
   },
   "source": [
    "## 9.A. <a id=\"passing_networks\">Passing networks</a>\n",
    "A player passing network is a weighted network where nodes are players and weighted edges represent movements of the ball between players.\n",
    "\n",
    "In soccer-logs we do not have direct information about the destination player, i.e., the player to which the pass is directed. We infer this information by sorting all the events and looking at the outcome of each pass event. If the pass event of player $u_1$ of team $A$ is accurate and the next event   is by a teammate $u_2$, we assume that player $u_2$ is the destination player of the pass.\n",
    "\n",
    "```\n",
    "Cintia et al., The harsh rule of the goals: data-driven performance indicators for football teams, In Proceedings of the 2015 IEEE International Conference on Data Science and Advanced Analytics (DSAA'2015), 2015, https://ieeexplore.ieee.org/document/7344823.\n",
    "```"
   ]
  },
  {
   "cell_type": "code",
   "execution_count": null,
   "metadata": {
    "hidden": true,
    "id": "AjfE86Sc0QYm"
   },
   "outputs": [],
   "source": [
    "def passing_networks(match_id=2576105):\n",
    "    \"\"\"\n",
    "    Construct the passing networks of the teams in the match.\n",
    "    \n",
    "    Parameters\n",
    "    ----------\n",
    "    match_id : int, optional\n",
    "        identifier of the match to plot\n",
    "        \n",
    "    Returns\n",
    "    -------\n",
    "    tuple\n",
    "        the two constructed networks, as networkx objects.\n",
    "    \"\"\"\n",
    "    \n",
    "    # take the names of the two teams of the match\n",
    "    match_label = match_id2match[match_id]['label']\n",
    "    team1_name = match_label.split('-')[0].split(' ')[0]\n",
    "    team2_name = match_label.split('-')[1].split(' ')[1].split(',')[0]\n",
    "    \n",
    "    # take all the events of the match\n",
    "    match_events = []\n",
    "    for event in match_id2events[match_id]:\n",
    "        if event['eventName'] == 'Pass':\n",
    "            match_events.append(event)\n",
    "\n",
    "    match_events_df = pd.DataFrame(match_events)\n",
    "    first_half_max_duration = np.max(match_events_df[match_events_df['matchPeriod'] == '1H']['eventSec'])\n",
    "\n",
    "    # sum 1H time end to all the time in 2H\n",
    "    for event in match_events:\n",
    "        if event['matchPeriod'] == '2H':\n",
    "            event['eventSec'] += first_half_max_duration\n",
    "    \n",
    "    team2pass2weight = defaultdict(lambda: defaultdict(int))\n",
    "    for event, next_event, next_next_event in zip(match_events, match_events[1:], match_events[2:]):\n",
    "        try:\n",
    "            if event['eventName'] == 'Pass' and ACCURATE_PASS in [tag['id'] for tag in event['tags']]:\n",
    "                sender = player_id2player[event['playerId']]['shortName'].encode('ascii', 'strict').decode('unicode-escape')\n",
    "                # case of duel\n",
    "                if next_event['eventName'] == 'Duel':\n",
    "                    # if the next event of from a playero of the same tema\n",
    "                    if next_event['teamId'] == event['teamId']:\n",
    "                        receiver = player_id2player[next_event['playerId']]['shortName'].encode('ascii', 'strict').decode('unicode-escape')\n",
    "                        team2pass2weight[team_id2team[event['teamId']]['name']][(sender, receiver)] += 1\n",
    "                    else:\n",
    "                        receiver = player_id2player[next_next_event['playerId']]['shortName'].encode('ascii', 'strict').decode('unicode-escape')\n",
    "                        team2pass2weight[team_id2team[event['teamId']]['name']][(sender, receiver)] += 1\n",
    "                else:  # any other event \n",
    "                    if next_event['teamId'] == event['teamId']:\n",
    "                        receiver = player_id2player[next_event['playerId']]['shortName'].encode('ascii', 'strict').decode('unicode-escape')\n",
    "                        team2pass2weight[team_id2team[event['teamId']]['name']][(sender, receiver)] += 1\n",
    "        except KeyError:\n",
    "            pass\n",
    "    # crete networkx graphs\n",
    "    G1, G2 = nx.DiGraph(team=team1_name), nx.DiGraph(team=team2_name)\n",
    "    for (sender, receiver), weight in team2pass2weight[team1_name].items():\n",
    "        G1.add_edge(sender, receiver, weight=weight)\n",
    "    for (sender, receiver), weight in team2pass2weight[team2_name].items():\n",
    "        G2.add_edge(sender, receiver, weight=weight)    \n",
    "    \n",
    "    return G1, G2"
   ]
  },
  {
   "cell_type": "code",
   "execution_count": null,
   "metadata": {
    "code_folding": [],
    "hidden": true,
    "id": "A7k79rNJ0QYm"
   },
   "outputs": [],
   "source": [
    "def plot_passing_networks(G1, G2):\n",
    "    \"\"\"\n",
    "    Plot the two passing networks in input.\n",
    "    \n",
    "    Parameters\n",
    "    ----------\n",
    "    G1 : networkx object\n",
    "        the object representing the first network\n",
    "        \n",
    "    G2 : networkx object\n",
    "        the object representing the second network\n",
    "    \"\"\"\n",
    "    pos1 = nx.spring_layout(G1, 4)\n",
    "    pos2 = nx.spring_layout(G2, 4)\n",
    "    nome2degree = dict(G1.degree)\n",
    "    nx.draw(G1, pos=pos1, nodelist=list(nome2degree.keys()), \n",
    "            node_size=[deg * 50 for deg in nome2degree.values()], \n",
    "            node_color='red', edge_color='black',\n",
    "            with_labels=True, font_weight='bold', alpha=0.75)\n",
    "    plt.show()\n",
    "    \n",
    "    nome2degree = dict(G2.degree)\n",
    "    nx.draw(G2, pos=pos2, nodelist=list(nome2degree.keys()), \n",
    "            node_size=[deg * 50 for deg in nome2degree.values()],\n",
    "            node_color='blue', edge_color='black',\n",
    "            with_labels=True, font_weight='bold', alpha=0.75)\n",
    "    plt.show()"
   ]
  },
  {
   "cell_type": "code",
   "execution_count": null,
   "metadata": {
    "hidden": true,
    "id": "WYzQsLd90QYn"
   },
   "outputs": [],
   "source": [
    "G1, G2 = passing_networks(match_id=2576105)"
   ]
  },
  {
   "cell_type": "code",
   "execution_count": null,
   "metadata": {
    "hidden": true,
    "id": "r5aGQxvE0QYn"
   },
   "outputs": [],
   "source": [
    "plot_passing_networks(G1, G2)"
   ]
  },
  {
   "cell_type": "markdown",
   "metadata": {
    "id": "v2zz6RpWxw2L"
   },
   "source": [
    "## EXERCISES\n",
    "\n",
    "Compute and visualize the passing network of match 2576335"
   ]
  },
  {
   "cell_type": "code",
   "execution_count": null,
   "metadata": {
    "id": "TvUzUg92yH9G"
   },
   "outputs": [],
   "source": []
  },
  {
   "cell_type": "markdown",
   "metadata": {
    "heading_collapsed": true,
    "hidden": true,
    "id": "HVzMghlI0QYn"
   },
   "source": [
    "### 9.B. <a id='flow_centrality'>Flow centrality</a>\n",
    "\n",
    "The **flow centrality** captures the fraction of times that a player intervenes in those paths that result in a shot. We take into account defensive efficiency by letting each player start a number of paths proportional to the number of balls that he recovers during the match.\n",
    "\n",
    "```\n",
    "Duch et al., Quantifying the Performance of Individual Players in a Team Activity, PLoS ONE 5(6): e10937. https://doi.org/10.1371/journal.pone.00109372010https://doi.org/10.1371/journal.pone.0010937\n",
    "```"
   ]
  },
  {
   "cell_type": "markdown",
   "metadata": {
    "hidden": true,
    "id": "AGbgTIfY0QYn"
   },
   "source": [
    "### Distribution of the flow centrality"
   ]
  },
  {
   "cell_type": "code",
   "execution_count": null,
   "metadata": {
    "hidden": true,
    "id": "beeQzfum0QYn"
   },
   "outputs": [],
   "source": [
    "def get_players_flow_centrality():\n",
    "    \"\"\"\n",
    "    Compute the sequence of flow centralities for each player.\n",
    "        \n",
    "    Returns\n",
    "    -------\n",
    "    dict\n",
    "        a dictionary of player names to a list of flow centralities\n",
    "        (one per each match played by the player).\n",
    "    \"\"\"\n",
    "    player2centralities = defaultdict(list)\n",
    "    for match in tqdm(match_id2match.values()):\n",
    "        match_id = match['wyId']\n",
    "        G1, G2 = passing_networks(match_id=match_id)\n",
    "        if G1.number_of_nodes() > 0:\n",
    "            for player_name in G1.nodes():\n",
    "                G1 = G1.to_undirected()\n",
    "                if nx.is_connected(G1):\n",
    "                    flow_centrality = nx.current_flow_betweenness_centrality(G1)[player_name]\n",
    "                    player2centralities[player_name].append(flow_centrality)\n",
    "        if G2.number_of_nodes() > 0:\n",
    "            for player_name in G2.nodes():\n",
    "                G2 = G2.to_undirected()\n",
    "                if nx.is_connected(G2):\n",
    "                    flow_centrality = nx.current_flow_betweenness_centrality(G2)[player_name]\n",
    "                    player2centralities[player_name].append(flow_centrality)\n",
    "    return player2centralities"
   ]
  },
  {
   "cell_type": "code",
   "execution_count": null,
   "metadata": {
    "hidden": true,
    "id": "uhl0HZKj0QYo"
   },
   "outputs": [],
   "source": [
    "player2centralities = get_players_flow_centrality()"
   ]
  },
  {
   "cell_type": "code",
   "execution_count": null,
   "metadata": {
    "hidden": true,
    "id": "PW4sRt2M0QYo"
   },
   "outputs": [],
   "source": [
    "chiellini_fcs = player2centralities['G. Chiellini']\n",
    "immobile_fcs = player2centralities['C. Immobile']\n",
    "barella_fcs = player2centralities['N. Barella']"
   ]
  },
  {
   "cell_type": "code",
   "execution_count": null,
   "metadata": {
    "hidden": true,
    "id": "dbAnjXyS0QYo"
   },
   "outputs": [],
   "source": [
    "def plot_flow_centrality(players_centralities, names):\n",
    "    \"\"\"\n",
    "    Plot the flow centralities in time of the players.\n",
    "    \n",
    "    Parameters\n",
    "    ----------\n",
    "    players_centralities : list of lists\n",
    "        the list of the list of flow centralities of the player\n",
    "        \n",
    "    names : list\n",
    "        the list of players\n",
    "    \"\"\"\n",
    "    sns.set_style('ticks')\n",
    "\n",
    "    f,ax = plt.subplots(figsize=(10,5))\n",
    "    for player_centralities, player_name in zip(players_centralities, names):\n",
    "        sns.kdeplot(pd.DataFrame(player_centralities, columns=['flow centrality'])['flow centrality'], \n",
    "                    shade=True, label=player_name)\n",
    "    plt.grid(alpha=0.3)\n",
    "    plt.xticks(fontsize=18)\n",
    "    plt.yticks(fontsize=18)\n",
    "    plt.xlabel('flow centrality', fontsize=25)\n",
    "    plt.ylabel('p(flow centrality)', fontsize=25)\n",
    "    lab = ax.legend(loc=1,fontsize=18,frameon=True,shadow=True)\n",
    "    f.tight_layout()\n",
    "    plt.show()"
   ]
  },
  {
   "cell_type": "code",
   "execution_count": null,
   "metadata": {
    "hidden": true,
    "id": "0NPkc_Ok0QYo"
   },
   "outputs": [],
   "source": [
    "plot_flow_centrality([chiellini_fcs, immobile_fcs, barella_fcs], \n",
    "                     ['Chiellini', 'Immobile', 'Barella'])"
   ]
  },
  {
   "cell_type": "markdown",
   "metadata": {
    "id": "2EZPeDqrfc_A"
   },
   "source": [
    "# Explore performance evaluations\n",
    "\n",
    "- PlayeRank evaluations of soccer players (tesi triennale): https://playerank.d4science.org/\n",
    "- Automatic tagging of events using deep learning (tesi magistrale): https://www.youtube.com/watch?v=cvXT5PIX9yA&t=25s "
   ]
  },
  {
   "cell_type": "code",
   "execution_count": null,
   "metadata": {
    "id": "gwThU-dQ1ck_"
   },
   "outputs": [],
   "source": []
  }
 ],
 "metadata": {
  "colab": {
   "collapsed_sections": [
    "HVzMghlI0QYn"
   ],
   "name": "data_exploration.ipynb",
   "provenance": []
  },
  "hide_input": false,
  "kernelspec": {
   "display_name": "Python [conda env:hesplora]",
   "language": "python",
   "name": "hesplora"
  },
  "language_info": {
   "codemirror_mode": {
    "name": "ipython",
    "version": 3
   },
   "file_extension": ".py",
   "mimetype": "text/x-python",
   "name": "python",
   "nbconvert_exporter": "python",
   "pygments_lexer": "ipython3",
   "version": "3.9.15"
  },
  "latex_envs": {
   "LaTeX_envs_menu_present": true,
   "autoclose": false,
   "autocomplete": true,
   "bibliofile": "biblio.bib",
   "cite_by": "apalike",
   "current_citInitial": 1,
   "eqLabelWithNumbers": true,
   "eqNumInitial": 1,
   "hotkeys": {
    "equation": "Ctrl-E",
    "itemize": "Ctrl-I"
   },
   "labels_anchors": false,
   "latex_user_defs": false,
   "report_style_numbering": true,
   "user_envs_cfg": false
  }
 },
 "nbformat": 4,
 "nbformat_minor": 4
}
